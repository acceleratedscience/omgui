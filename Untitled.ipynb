{
 "cells": [
  {
   "cell_type": "code",
   "execution_count": 1,
   "id": "9bf70d8f-4694-4223-927a-4100e571d57e",
   "metadata": {
    "tags": []
   },
   "outputs": [
    {
     "data": {
      "application/vnd.jupyter.widget-view+json": {
       "model_id": "a8ff5f4091734b92b0fd89316b2cfb20",
       "version_major": 2,
       "version_minor": 0
      },
      "text/plain": [
       "interactive(children=(Button(description='Run Interact', style=ButtonStyle()), Output()), _dom_classes=('widge…"
      ]
     },
     "metadata": {},
     "output_type": "display_data"
    },
    {
     "ename": "AttributeError",
     "evalue": "'function' object has no attribute 'close'",
     "output_type": "error",
     "traceback": [
      "\u001b[31m---------------------------------------------------------------------------\u001b[39m",
      "\u001b[31mAttributeError\u001b[39m                            Traceback (most recent call last)",
      "\u001b[36mCell\u001b[39m\u001b[36m \u001b[39m\u001b[32mIn[1]\u001b[39m\u001b[32m, line 6\u001b[39m\n\u001b[32m      2\u001b[39m \u001b[38;5;28;01mfrom\u001b[39;00m \u001b[34;01momgui\u001b[39;00m\u001b[34;01m.\u001b[39;00m\u001b[34;01mutil\u001b[39;00m\u001b[34;01m.\u001b[39;00m\u001b[34;01mspinner\u001b[39;00m \u001b[38;5;28;01mimport\u001b[39;00m Spinner\n\u001b[32m      4\u001b[39m spinner = Spinner()\n\u001b[32m----> \u001b[39m\u001b[32m6\u001b[39m \u001b[43mspinner\u001b[49m\u001b[43m.\u001b[49m\u001b[43mstart\u001b[49m\u001b[43m(\u001b[49m\u001b[33;43m'\u001b[39;49m\u001b[33;43mWaiting\u001b[39;49m\u001b[33;43m'\u001b[39;49m\u001b[43m,\u001b[49m\u001b[43m \u001b[49m\u001b[43mfancy\u001b[49m\u001b[43m=\u001b[49m\u001b[38;5;28;43;01mFalse\u001b[39;49;00m\u001b[43m)\u001b[49m\n\u001b[32m      7\u001b[39m \u001b[38;5;66;03m# spinner.start()\u001b[39;00m\n\u001b[32m      9\u001b[39m time.sleep(\u001b[32m3\u001b[39m)\n",
      "\u001b[36mFile \u001b[39m\u001b[32m~/Local/GitHub/AGENTIC/omgui/omgui/util/spinner.py:134\u001b[39m, in \u001b[36mSpinner.start\u001b[39m\u001b[34m(self, text, fancy)\u001b[39m\n\u001b[32m    132\u001b[39m \u001b[38;5;28mself\u001b[39m._running = \u001b[38;5;28;01mTrue\u001b[39;00m\n\u001b[32m    133\u001b[39m \u001b[38;5;28;01mif\u001b[39;00m nb_mode():\n\u001b[32m--> \u001b[39m\u001b[32m134\u001b[39m     \u001b[38;5;28;43mself\u001b[39;49m\u001b[43m.\u001b[49m\u001b[43m_animate_jupyter\u001b[49m\u001b[43m(\u001b[49m\u001b[43m)\u001b[49m\n\u001b[32m    135\u001b[39m \u001b[38;5;28;01melse\u001b[39;00m:\n\u001b[32m    136\u001b[39m     \u001b[38;5;28mself\u001b[39m._thread = threading.Thread(target=\u001b[38;5;28mself\u001b[39m._animate)\n",
      "\u001b[36mFile \u001b[39m\u001b[32m~/Local/GitHub/AGENTIC/omgui/omgui/util/spinner.py:121\u001b[39m, in \u001b[36mSpinner._animate_jupyter\u001b[39m\u001b[34m(self)\u001b[39m\n\u001b[32m    118\u001b[39m     \u001b[38;5;28mself\u001b[39m._task = ipywidgets.interact_manual(_update_spinner)\n\u001b[32m    119\u001b[39m     \u001b[38;5;28mself\u001b[39m._task.close()\n\u001b[32m--> \u001b[39m\u001b[32m121\u001b[39m \u001b[43m_update_spinner\u001b[49m\u001b[43m(\u001b[49m\u001b[43m)\u001b[49m\n",
      "\u001b[36mFile \u001b[39m\u001b[32m~/Local/GitHub/AGENTIC/omgui/omgui/util/spinner.py:119\u001b[39m, in \u001b[36mSpinner._animate_jupyter.<locals>._update_spinner\u001b[39m\u001b[34m()\u001b[39m\n\u001b[32m    117\u001b[39m time.sleep(\u001b[38;5;28mself\u001b[39m.interval)\n\u001b[32m    118\u001b[39m \u001b[38;5;28mself\u001b[39m._task = ipywidgets.interact_manual(_update_spinner)\n\u001b[32m--> \u001b[39m\u001b[32m119\u001b[39m \u001b[38;5;28;43mself\u001b[39;49m\u001b[43m.\u001b[49m\u001b[43m_task\u001b[49m\u001b[43m.\u001b[49m\u001b[43mclose\u001b[49m()\n",
      "\u001b[31mAttributeError\u001b[39m: 'function' object has no attribute 'close'"
     ]
    }
   ],
   "source": [
    "import time\n",
    "from omgui.util.spinner import Spinner\n",
    "\n",
    "spinner = Spinner()\n",
    "\n",
    "spinner.start('Waiting', fancy=False)\n",
    "# spinner.start()\n",
    "\n",
    "time.sleep(3)\n",
    "spinner.stop()"
   ]
  },
  {
   "cell_type": "code",
   "execution_count": null,
   "id": "09cab7ca-394c-4644-9f44-24c6b51a109e",
   "metadata": {
    "tags": []
   },
   "outputs": [],
   "source": [
    "spinner.stop()"
   ]
  }
 ],
 "metadata": {
  "kernelspec": {
   "display_name": "omgui_venv",
   "language": "python",
   "name": "omgui_venv"
  },
  "language_info": {
   "codemirror_mode": {
    "name": "ipython",
    "version": 3
   },
   "file_extension": ".py",
   "mimetype": "text/x-python",
   "name": "python",
   "nbconvert_exporter": "python",
   "pygments_lexer": "ipython3",
   "version": "3.11.9"
  }
 },
 "nbformat": 4,
 "nbformat_minor": 5
}
