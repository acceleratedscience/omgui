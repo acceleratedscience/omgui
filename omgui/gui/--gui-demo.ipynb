{
 "cells": [
  {
   "cell_type": "code",
   "execution_count": 1,
   "id": "aca58d84-ed05-4971-a20b-07b5fb376459",
   "metadata": {
    "tags": []
   },
   "outputs": [
    {
     "name": "stdout",
     "output_type": "stream",
     "text": [
      "✅ Session-only context created - workspace: test\n",
      "Your molecule working set will reset when you exit this session.\n"
     ]
    },
    {
     "data": {
      "text/html": [
       "\n",
       "            <style>\n",
       "                #btn-wrap-1758117307 { height:12px; right:20px; display:flex; flex-direction:row-reverse; position:relative }\n",
       "                #btn-wrap-1758117307 a { color:#393939; width:24px; height:24px; padding:4px; box-sizing:border-box; background:white }\n",
       "                #btn-wrap-1758117307 a:hover { color: #0f62fe }\n",
       "            </style>\n",
       "            <div id=\"btn-wrap-1758117307\"><a target=\"_blank\" href=\"http://0.0.0.0:8024/\"><svg width=\"16\" height=\"16\" viewBox=\"0 0 16 16\" fill=\"none\" xmlns=\"http://www.w3.org/2000/svg\"><path d=\"M13 14H3C2.73489 13.9996 2.48075 13.8942 2.29329 13.7067C2.10583 13.5193 2.00036 13.2651 2 13V3C2.00036 2.73489 2.10583 2.48075 2.29329 2.29329C2.48075 2.10583 2.73489 2.00036 3 2H8V3H3V13H13V8H14V13C13.9996 13.2651 13.8942 13.5193 13.7067 13.7067C13.5193 13.8942 13.2651 13.9996 13 14Z\" fill=\"currentColor\"/><path d=\"M10 1V2H13.293L9 6.293L9.707 7L14 2.707V6H15V1H10Z\" fill=\"currentColor\"/></svg></a><a href=\"#\" onclick=\"event.preventDefault(); document.querySelector('#btn-wrap-1758117307 + iframe').src=document.querySelector('#btn-wrap-1758117307 + iframe').src;\"><svg width=\"16\" height=\"16\" viewBox=\"0 0 16 16\" fill=\"none\" xmlns=\"http://www.w3.org/2000/svg\"><path d=\"M9 14C10.1867 14 11.3467 13.6481 12.3334 12.9888C13.3201 12.3295 14.0892 11.3925 14.5433 10.2961C14.9974 9.19975 15.1162 7.99335 14.8847 6.82946C14.6532 5.66558 14.0818 4.59648 13.2426 3.75736C12.4035 2.91825 11.3344 2.3468 10.1705 2.11529C9.00666 1.88378 7.80026 2.0026 6.7039 2.45673C5.60754 2.91085 4.67047 3.67989 4.01118 4.66658C3.35189 5.65328 3 6.81331 3 8V11.1L1.2 9.3L0.5 10L3.5 13L6.5 10L5.8 9.3L4 11.1V8C4 7.0111 4.29324 6.0444 4.84265 5.22215C5.39206 4.39991 6.17295 3.75904 7.08658 3.38061C8.00021 3.00217 9.00555 2.90315 9.97545 3.09608C10.9454 3.289 11.8363 3.76521 12.5355 4.46447C13.2348 5.16373 13.711 6.05465 13.9039 7.02455C14.0969 7.99446 13.9978 8.99979 13.6194 9.91342C13.241 10.8271 12.6001 11.6079 11.7779 12.1574C10.9556 12.7068 9.98891 13 9 13V14Z\" fill=\"currentColor\"/></svg></a></div><iframe src=\"http://0.0.0.0:8024/headless/\" crossorigin=\"anonymous\" width=\"100%\" height=\"700\" style=\"border:solid 1px #ddd;box-sizing:border-box;width:calc(100% + 20px)\"></iframe>"
      ],
      "text/plain": [
       "<IPython.core.display.HTML object>"
      ]
     },
     "metadata": {},
     "output_type": "display_data"
    },
    {
     "data": {
      "text/plain": [
       "{'workspace': 'test',\n",
       " 'temp': True,\n",
       " 'vars': {},\n",
       " '_mws': '<empty>',\n",
       " '_initialized': True}"
      ]
     },
     "execution_count": 1,
     "metadata": {},
     "output_type": "execute_result"
    },
    {
     "data": {
      "text/plain": [
       "PosixPath('/Users/themoenen/.omgui/workspaces/test/foo')"
      ]
     },
     "execution_count": 1,
     "metadata": {},
     "output_type": "execute_result"
    }
   ],
   "source": [
    "import omgui\n",
    "\n",
    "omgui.session('test')\n",
    "omgui.launch()\n",
    "omgui.get_context()\n",
    "\n",
    "from omgui.helpers.paths import parse_path\n",
    "\n",
    "parse_path('foo')"
   ]
  },
  {
   "cell_type": "markdown",
   "id": "b515acec-3107-4d3c-a814-ef66c675a642",
   "metadata": {},
   "source": [
    "# OMGUI Demo\n",
    "\n",
    "OMGUI provides a visual window onto your data, helping you with evaluation and triage.\n",
    "\n",
    "<br>\n",
    "\n",
    "### <u>How it works</u>\n",
    "\n",
    "The GUI can be launched from the CLI (in the browser) or a Jupyter Notebook (in an iFrame).<br>\n",
    "Any command that requires the GUI will start the server, which will then keep on running until the application or Notebook is shut down."
   ]
  },
  {
   "cell_type": "code",
   "execution_count": null,
   "id": "a7c0a61c-f49a-4a3d-8b19-502cfc79d974",
   "metadata": {},
   "outputs": [],
   "source": []
  },
  {
   "cell_type": "code",
   "execution_count": null,
   "id": "66bbece6-c5eb-40c8-9d20-b99af144881c",
   "metadata": {
    "tags": []
   },
   "outputs": [],
   "source": [
    "import omgui\n",
    "omgui.launch()"
   ]
  },
  {
   "cell_type": "code",
   "execution_count": null,
   "id": "d605a403-0cc3-4f54-82cf-3a3e47a5a4b9",
   "metadata": {
    "tags": []
   },
   "outputs": [],
   "source": [
    "import omgui\n",
    "omgui.mws.add('vitamin A')\n",
    "omgui.mws.add('vitamin B1')\n",
    "omgui.mws.add('vitamin B2')\n",
    "omgui.mws.add('vitamin B3')\n",
    "omgui.mws.add('vitamin B5')\n",
    "omgui.mws.add('vitamin B6')\n",
    "omgui.mws.add('vitamin B7')\n",
    "omgui.mws.add('vitamin B9')\n",
    "omgui.mws.add('vitamin B12')\n",
    "omgui.mws.add('vitamin C')\n",
    "omgui.mws.add('vitamin D2')\n",
    "omgui.mws.add('vitamin D3')\n",
    "omgui.mws.add('vitamin E')\n",
    "omgui.mws.open()"
   ]
  },
  {
   "cell_type": "code",
   "execution_count": null,
   "id": "adc7f66c-7abf-43fd-9f45-596ed84ea895",
   "metadata": {
    "tags": []
   },
   "outputs": [],
   "source": [
    "import omgui\n",
    "omgui.mws.add('water')\n",
    "omgui.mws.add('ethanol')\n",
    "omgui.mws.add('acetone')\n",
    "omgui.mws.add('hexane')\n",
    "omgui.mws.add('toluene')\n",
    "omgui.mws.add('chloroform')\n",
    "omgui.mws.add('Dimethyl sulfoxide ')\n",
    "omgui.mws.open()"
   ]
  },
  {
   "cell_type": "code",
   "execution_count": 2,
   "id": "3d063946-8416-4cd5-93c8-cdf1fa6f1cac",
   "metadata": {
    "tags": []
   },
   "outputs": [
    {
     "name": "stdout",
     "output_type": "stream",
     "text": [
      "Molecule Paracetamol was added\n",
      "Molecule Naproxen was added\n",
      "Molecule Diphenhydramine was added\n",
      "Molecule Loratadine was added\n",
      "Molecule Omeprazole was added\n",
      "Molecule Loperamide was added\n",
      "Molecule Dextromethorphan was added\n",
      "Molecule Atorvastatin was added\n",
      "Molecule Metformin was added\n",
      "Molecule Levothyroxine was added\n",
      "Molecule Lisinopril was added\n",
      "Molecule Amlodipine was added\n",
      "Molecule Amoxicillin was added\n",
      "Molecule Sertraline was added\n",
      "Molecule Fluoxetine was added\n",
      "Molecule Tramadol was added\n",
      "Unable to identify molecule Gabapenti\n"
     ]
    },
    {
     "data": {
      "text/html": [
       "\n",
       "            <style>\n",
       "                #btn-wrap-1758040253 { height:12px; right:20px; display:flex; flex-direction:row-reverse; position:relative }\n",
       "                #btn-wrap-1758040253 a { color:#393939; width:24px; height:24px; padding:4px; box-sizing:border-box; background:white }\n",
       "                #btn-wrap-1758040253 a:hover { color: #0f62fe }\n",
       "            </style>\n",
       "            <div id=\"btn-wrap-1758040253\"><a target=\"_blank\" href=\"http://127.0.0.1:8026/mws\"><svg width=\"16\" height=\"16\" viewBox=\"0 0 16 16\" fill=\"none\" xmlns=\"http://www.w3.org/2000/svg\"><path d=\"M13 14H3C2.73489 13.9996 2.48075 13.8942 2.29329 13.7067C2.10583 13.5193 2.00036 13.2651 2 13V3C2.00036 2.73489 2.10583 2.48075 2.29329 2.29329C2.48075 2.10583 2.73489 2.00036 3 2H8V3H3V13H13V8H14V13C13.9996 13.2651 13.8942 13.5193 13.7067 13.7067C13.5193 13.8942 13.2651 13.9996 13 14Z\" fill=\"currentColor\"/><path d=\"M10 1V2H13.293L9 6.293L9.707 7L14 2.707V6H15V1H10Z\" fill=\"currentColor\"/></svg></a><a href=\"#\" onclick=\"event.preventDefault(); document.querySelector('#btn-wrap-1758040253 + iframe').src=document.querySelector('#btn-wrap-1758040253 + iframe').src;\"><svg width=\"16\" height=\"16\" viewBox=\"0 0 16 16\" fill=\"none\" xmlns=\"http://www.w3.org/2000/svg\"><path d=\"M9 14C10.1867 14 11.3467 13.6481 12.3334 12.9888C13.3201 12.3295 14.0892 11.3925 14.5433 10.2961C14.9974 9.19975 15.1162 7.99335 14.8847 6.82946C14.6532 5.66558 14.0818 4.59648 13.2426 3.75736C12.4035 2.91825 11.3344 2.3468 10.1705 2.11529C9.00666 1.88378 7.80026 2.0026 6.7039 2.45673C5.60754 2.91085 4.67047 3.67989 4.01118 4.66658C3.35189 5.65328 3 6.81331 3 8V11.1L1.2 9.3L0.5 10L3.5 13L6.5 10L5.8 9.3L4 11.1V8C4 7.0111 4.29324 6.0444 4.84265 5.22215C5.39206 4.39991 6.17295 3.75904 7.08658 3.38061C8.00021 3.00217 9.00555 2.90315 9.97545 3.09608C10.9454 3.289 11.8363 3.76521 12.5355 4.46447C13.2348 5.16373 13.711 6.05465 13.9039 7.02455C14.0969 7.99446 13.9978 8.99979 13.6194 9.91342C13.241 10.8271 12.6001 11.6079 11.7779 12.1574C10.9556 12.7068 9.98891 13 9 13V14Z\" fill=\"currentColor\"/></svg></a></div><iframe src=\"http://127.0.0.1:8026/headless/mws\" crossorigin=\"anonymous\" width=\"100%\" height=\"700\" style=\"border:solid 1px #ddd;box-sizing:border-box;width:calc(100% + 20px)\"></iframe>"
      ],
      "text/plain": [
       "<IPython.core.display.HTML object>"
      ]
     },
     "metadata": {},
     "output_type": "display_data"
    }
   ],
   "source": [
    "import omgui\n",
    "omgui.mws.add('Paracetamol')\n",
    "omgui.mws.add('Naproxen')\n",
    "omgui.mws.add('Diphenhydramine')\n",
    "omgui.mws.add('Loratadine')\n",
    "omgui.mws.add('Omeprazole')\n",
    "omgui.mws.add('Loperamide')\n",
    "omgui.mws.add('Dextromethorphan')\n",
    "omgui.mws.add('Atorvastatin')\n",
    "omgui.mws.add('Metformin')\n",
    "omgui.mws.add('Levothyroxine')\n",
    "omgui.mws.add('Lisinopril')\n",
    "omgui.mws.add('Amlodipine')\n",
    "omgui.mws.add('Amoxicillin')\n",
    "omgui.mws.add('Sertraline')\n",
    "omgui.mws.add('Fluoxetine')\n",
    "omgui.mws.add('Tramadol')\n",
    "omgui.mws.add('Gabapenti')\n",
    "omgui.mws.open()"
   ]
  },
  {
   "cell_type": "code",
   "execution_count": null,
   "id": "a8aa61f6-9e71-4fb0-b4b5-e13f01053f7b",
   "metadata": {
    "tags": []
   },
   "outputs": [],
   "source": [
    "import omgui\n",
    "# omgui.session()\n",
    "omgui.get_context()\n",
    "print('*******')\n",
    "omgui.mws.add('C1=CC2=C(C=C1O)C(=CN2)CCN', basic=True)\n",
    "print('*******')\n",
    "omgui.mws.get_names()"
   ]
  },
  {
   "cell_type": "code",
   "execution_count": null,
   "id": "cac6d2fe-8a9a-4712-b584-87bea9bd8454",
   "metadata": {
    "tags": []
   },
   "outputs": [],
   "source": [
    "import omgui"
   ]
  },
  {
   "cell_type": "code",
   "execution_count": null,
   "id": "135a37e3-28f6-4958-a025-f636ad792fd5",
   "metadata": {
    "tags": []
   },
   "outputs": [],
   "source": [
    "omgui.session()"
   ]
  },
  {
   "cell_type": "code",
   "execution_count": null,
   "id": "2fa7976d-ba02-4972-9ad7-145ad94dbeef",
   "metadata": {
    "tags": []
   },
   "outputs": [],
   "source": [
    "omgui.get_context()"
   ]
  },
  {
   "cell_type": "code",
   "execution_count": null,
   "id": "45ea0bbb-0ae8-4162-b875-04873589928e",
   "metadata": {
    "tags": []
   },
   "outputs": [],
   "source": [
    "# omgui.mws.add('dopamine')\n",
    "# omgui.mws.add('serotonin')\n",
    "omgui.mws.add('aspirin')\n",
    "# omgui.mws.add('C1=CC(=C(C=C1CCN)O)O', basic=True)\n",
    "# omgui.mws.add('C1=CC2=C(C=C1O)C(=CN2)CCN', basic=True)\n",
    "\n",
    "omgui.mws.get_names()"
   ]
  },
  {
   "cell_type": "code",
   "execution_count": null,
   "id": "8e6d9ffa-2cfe-4e8f-8402-60f51bccbd52",
   "metadata": {
    "tags": []
   },
   "outputs": [],
   "source": [
    "omgui.mws.get_names()"
   ]
  },
  {
   "cell_type": "code",
   "execution_count": null,
   "id": "b08a4e4c-c158-44ef-9bb5-7c630ba9df0a",
   "metadata": {
    "tags": []
   },
   "outputs": [],
   "source": [
    "omgui.mws.open()"
   ]
  },
  {
   "cell_type": "code",
   "execution_count": null,
   "id": "84d57009-f2c6-41cd-a9cb-8853339f58f1",
   "metadata": {
    "tags": []
   },
   "outputs": [],
   "source": [
    "# import omgui\n",
    "# omgui.set_scope('test3')\n",
    "# omgui.launch()\n",
    "\n",
    "# omgui.create_workspace('wait what')\n",
    "\n",
    "# omgui.get_context()\n",
    "\n",
    "# omgui.get_workspace()\n",
    "\n",
    "# omgui.get_workspaces()\n",
    "\n"
   ]
  },
  {
   "cell_type": "code",
   "execution_count": null,
   "id": "036c221e-fcbc-4408-a762-3108393a7e82",
   "metadata": {
    "tags": []
   },
   "outputs": [],
   "source": [
    "from omgui import mws\n",
    "\n",
    "mws.add('CCO')\n",
    "mws.show()"
   ]
  },
  {
   "cell_type": "code",
   "execution_count": null,
   "id": "f449404f-7846-4212-b102-f16e4ed82eee",
   "metadata": {
    "tags": []
   },
   "outputs": [],
   "source": [
    "import omgui\n",
    "omgui.show_mol('dopamine')"
   ]
  },
  {
   "cell_type": "markdown",
   "id": "6ef0d70c-5bf3-4527-bfc4-b7f44f93ccbc",
   "metadata": {},
   "source": [
    "<br>\n",
    "\n",
    "## <u>Components</u>\n",
    "\n",
    "1. File browser\n",
    "1. Molecule viewer\n",
    "2. Molecule set viewer\n",
    "1. Data viewer (to be implemented)\n",
    "1. \"My molecules\" working set\n",
    "1. Results"
   ]
  },
  {
   "cell_type": "markdown",
   "id": "4d3f6ef1-80ea-4b66-b351-bc44a31b2f40",
   "metadata": {
    "tags": []
   },
   "source": [
    "<br>\n",
    "\n",
    "### 1. File Browser\n",
    "\n",
    "The file browser lets us open our own proprietary file formats:\n",
    "\n",
    "- **.mol.json** --> Individual molecule files\n",
    "- **.molset.json** --> Sets of molecule files\n",
    "\n",
    "As well as a number of commonly used file formats:\n",
    "\n",
    "- **.mol**\n",
    "- **.sdf**\n",
    "- **.smi**\n",
    "- **.json**\n",
    "- **.csv**\n",
    "\n",
    "Files can easily be opened in your default system app, which is the default for any unsupported file formats."
   ]
  },
  {
   "cell_type": "code",
   "execution_count": null,
   "id": "d73bfd83-6a95-4ae4-b111-fb3c95b2e375",
   "metadata": {
    "tags": []
   },
   "outputs": [],
   "source": [
    "# The file browser is the landing page for the GUI\n",
    "%openad launch gui"
   ]
  },
  {
   "cell_type": "markdown",
   "id": "3577612b-09ad-4d41-8913-f40557ebe016",
   "metadata": {},
   "source": [
    "<br>\n",
    "\n",
    "### 2. Molecule Viewer\n",
    "\n",
    "The molecule viewer gives you an at-a-glance overview of all the information you have gathered on a particular molecule.\n",
    "\n",
    "New molecules are prepopulated with data from RDKit and PubChem by default"
   ]
  },
  {
   "cell_type": "code",
   "execution_count": null,
   "id": "ffae7a0a-7af6-4510-b058-bf9cfc70ff81",
   "metadata": {
    "tags": []
   },
   "outputs": [],
   "source": [
    "# Visualize a single molecule\n",
    "%openad show mol dopamine"
   ]
  },
  {
   "cell_type": "markdown",
   "id": "98f7edc8-8842-4616-bc6e-afa80f6109b1",
   "metadata": {},
   "source": [
    "<br>\n",
    "\n",
    "### 3. Molset Viewer\n",
    "\n",
    "<p>The molset viewer is replacing the widely used \"mols2grid\" package. It runs a lot faster and has improved usability.</p>\n",
    "\n",
    "<p>In the future we'll also load this with more advanced functionality like filtering, subsetting, merging etc.</p>"
   ]
  },
  {
   "cell_type": "code",
   "execution_count": null,
   "id": "bd0e8d94-5ed6-477e-b04d-4f4bbde19baa",
   "metadata": {
    "tags": []
   },
   "outputs": [],
   "source": [
    "# Visualize a molecule set - from a file\n",
    "%openad show molset 'demo/my-mols.molset.json'"
   ]
  },
  {
   "cell_type": "code",
   "execution_count": null,
   "id": "7c041b55-4165-4196-9fb1-c125615dd97d",
   "metadata": {
    "tags": []
   },
   "outputs": [],
   "source": [
    "# Visualize a molecule set - from a dataframe\n",
    "\n",
    "# %openad clear sessions\n",
    "# %openad add toolkit ds4sd\n",
    "%openad set context ds4sd\n",
    "\n",
    "my_df = %openadd search for similar molecules to 'C(=C)C([O-])'\n",
    "%openad show molset using dataframe my_df"
   ]
  },
  {
   "cell_type": "code",
   "execution_count": null,
   "id": "78d35df9-5961-486c-bc44-c26041005839",
   "metadata": {
    "tags": []
   },
   "outputs": [],
   "source": [
    "my_df"
   ]
  },
  {
   "cell_type": "markdown",
   "id": "67dae3b8-d2c9-443f-820c-e90a8c82613a",
   "metadata": {},
   "source": [
    "<br>\n",
    "\n",
    "### 4. Data Viewer\n",
    "\n",
    "The data viewer lets you review, sort and triage data from a CSV file or a dataframe.\n",
    "\n",
    "<span style=\"color: #d00\">The data viewer is not yet ported into the new GUI. It still uses the deprecated Flask app architecture.</span>"
   ]
  },
  {
   "cell_type": "code",
   "execution_count": null,
   "id": "390dc1a2-21e1-489a-bdaf-e0e82590c6a5",
   "metadata": {
    "tags": []
   },
   "outputs": [],
   "source": [
    "%openad display data 'demo/my-data.csv'"
   ]
  },
  {
   "cell_type": "code",
   "execution_count": null,
   "id": "8a7a692a-1b37-4836-89f5-e070541b3fed",
   "metadata": {
    "tags": []
   },
   "outputs": [],
   "source": [
    "%openad result open"
   ]
  },
  {
   "cell_type": "code",
   "execution_count": null,
   "id": "4434cab6-827d-45ff-8a33-a3cc5159e7a3",
   "metadata": {
    "tags": []
   },
   "outputs": [],
   "source": [
    "%openad result display"
   ]
  },
  {
   "cell_type": "code",
   "execution_count": null,
   "id": "25c3ad7c-11a2-497c-9759-9b08e5e8f910",
   "metadata": {
    "tags": []
   },
   "outputs": [],
   "source": [
    "%openad result save as 'demo/manipulated-data.csv'"
   ]
  },
  {
   "cell_type": "code",
   "execution_count": null,
   "id": "5aedb3d9-4a15-49f6-8423-f7bba7310c8f",
   "metadata": {
    "tags": []
   },
   "outputs": [],
   "source": [
    "%openad launch gui"
   ]
  },
  {
   "cell_type": "markdown",
   "id": "96a6a492-126b-42d1-acf1-735dcbf1081d",
   "metadata": {
    "tags": []
   },
   "source": [
    "<br>\n",
    "\n",
    "### 5. \"My Molecules\" Working Set\n",
    "\n",
    "Your working set of molecules(*) is a molset that lives in memory and is meant as a bucket for gathering candidates from various processesses and sources, before storing them into a new file and processing them further.\n",
    "\n",
    "\\(*) Currently the working set is called \"mymols\", but this name may change.\n",
    "\n",
    "\n",
    "<span style=\"color: #d00\">Note: loading and merging molecule sets is still using a different architecture which is not compatible with the GUI.</span>"
   ]
  },
  {
   "cell_type": "code",
   "execution_count": null,
   "id": "12fc5909-8f40-4333-961b-83b4827f656b",
   "metadata": {
    "tags": []
   },
   "outputs": [],
   "source": [
    "# Add individual molecules by name\n",
    "%openad add molecule dopamine\n",
    "%openad add molecule serotonin\n",
    "%openad add molecule glutamate"
   ]
  },
  {
   "cell_type": "code",
   "execution_count": null,
   "id": "ba474fe2-b702-40c1-ad76-9ba5a1fae96e",
   "metadata": {
    "tags": []
   },
   "outputs": [],
   "source": [
    "# Add molecules from a molset\n",
    "%openad show molset 'demo/my-mols.molset.json'"
   ]
  },
  {
   "cell_type": "code",
   "execution_count": null,
   "id": "7dc19646-0d6d-445c-b3fa-bda02d6d646a",
   "metadata": {
    "tags": []
   },
   "outputs": [],
   "source": [
    "# Add molecule sets - NOT YET INTEGRATED WITH GUI\n",
    "# %openad load molecule-set 'file_types/molset---neurotransmitters.molset.json'"
   ]
  },
  {
   "cell_type": "code",
   "execution_count": null,
   "id": "2bc05106-0774-4a88-baa3-46c7f352329c",
   "metadata": {
    "tags": []
   },
   "outputs": [],
   "source": [
    "%openad show mols"
   ]
  },
  {
   "cell_type": "markdown",
   "id": "a06c43d9-3a18-4263-b5cb-05fc4ec51abf",
   "metadata": {},
   "source": [
    "<br>\n",
    "\n",
    "### 6. Results\n",
    "\n",
    "Whenever data is displayed in the CLI or a Notebook using `output_table()`, the data is stored in memory so it can be used for follow up commands like `result open`, `result edit`, `result copy` etc.\n",
    "\n",
    "The result dataset stored in memory can also be viewed and manipulated in the GUI, either through the molecule viewer or the data viewer (yet to be implemented)."
   ]
  },
  {
   "cell_type": "code",
   "execution_count": null,
   "id": "df973191-b513-4e64-9142-c55d5416b272",
   "metadata": {
    "tags": []
   },
   "outputs": [],
   "source": [
    "%openad display data 'demo/my-mols.csv'"
   ]
  },
  {
   "cell_type": "code",
   "execution_count": null,
   "id": "ad903ad3-a929-4ab1-83f6-e95f7e13aae5",
   "metadata": {
    "tags": []
   },
   "outputs": [],
   "source": [
    "%openad result open"
   ]
  }
 ],
 "metadata": {
  "kernelspec": {
   "display_name": "omgui_venv",
   "language": "python",
   "name": "omgui_venv"
  },
  "language_info": {
   "codemirror_mode": {
    "name": "ipython",
    "version": 3
   },
   "file_extension": ".py",
   "mimetype": "text/x-python",
   "name": "python",
   "nbconvert_exporter": "python",
   "pygments_lexer": "ipython3",
   "version": "3.11.9"
  }
 },
 "nbformat": 4,
 "nbformat_minor": 5
}
