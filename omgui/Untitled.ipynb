{
 "cells": [
  {
   "cell_type": "code",
   "execution_count": null,
   "id": "d8cda229-5ad7-479b-a67e-64f398add376",
   "metadata": {
    "tags": []
   },
   "outputs": [],
   "source": [
    "import openad\n",
    "\n",
    "%openad show mol dopamine"
   ]
  },
  {
   "cell_type": "code",
   "execution_count": null,
   "id": "478e3529-400a-4aa8-8906-2f8a4cfb0006",
   "metadata": {},
   "outputs": [],
   "source": []
  }
 ],
 "metadata": {
  "kernelspec": {
   "display_name": "ad-venv",
   "language": "python",
   "name": "ad-venv"
  },
  "language_info": {
   "codemirror_mode": {
    "name": "ipython",
    "version": 3
   },
   "file_extension": ".py",
   "mimetype": "text/x-python",
   "name": "python",
   "nbconvert_exporter": "python",
   "pygments_lexer": "ipython3",
   "version": "3.11.9"
  }
 },
 "nbformat": 4,
 "nbformat_minor": 5
}
