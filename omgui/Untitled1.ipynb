{
 "cells": [
  {
   "cell_type": "code",
   "execution_count": 1,
   "id": "67f5b348-c11c-4e9f-ade8-8f0aab4c2479",
   "metadata": {
    "tags": []
   },
   "outputs": [],
   "source": [
    "import omgui"
   ]
  },
  {
   "cell_type": "code",
   "execution_count": 2,
   "id": "accb8e7c-77c9-4fd8-bee4-21d376e663c9",
   "metadata": {
    "tags": []
   },
   "outputs": [
    {
     "name": "stdout",
     "output_type": "stream",
     "text": [
      "No molecules to clear\n"
     ]
    }
   ],
   "source": [
    "omgui.mws.clear()"
   ]
  },
  {
   "cell_type": "code",
   "execution_count": 2,
   "id": "b9c7dd25-f786-4504-a4e6-313d653811dd",
   "metadata": {
    "tags": []
   },
   "outputs": [
    {
     "name": "stdout",
     "output_type": "stream",
     "text": [
      "✅ 1 Attempt 1/20:        364 --> SMILES: C(C(C(=O)O)N)N\n",
      "✅ 1 Attempt 1/20:        372 --> SMILES: C1=C(C=C(OC1=O)C(=O)O)C(=O)O\n",
      "✅ 1 Attempt 1/20:        389 --> SMILES: C(CC(C(=O)O)N)CN\n",
      "✅ 1 Attempt 1/20:        333 --> SMILES: C(C(C(C(COP(=O)(O)O)O)O)O)NC1=C(C(=O)NC(=O)N1)N\n",
      "✅ 1 Attempt 1/20:        464 --> SMILES: C1=CC=C(C=C1)C(=O)NCC(=O)O\n",
      "✅ 1 Attempt 1/20:        633 --> SMILES: CC(=CCCC(=CCCC(=CCCC(=CCCC(=CCCC(=CCCC(=CCCC(=CCC1=CC(=O)C2=CC=CC=C2C1=O)C)C)C)C)C)C)C)C\n",
      "✅ 1 Attempt 1/20:        374 --> SMILES: C(C(=CC(=O)C(=O)O)C(=O)O)C(=O)O\n",
      "✅ 1 Attempt 1/20:        395 --> SMILES: CCC1=C(C2C=C3C(=C(C(=CC4=C(C(=C(N4)C=C5C(=C(C(=CC1=N2)N5)C(C)SCC(C(=O)NC)N)C)C)CCC(=O)O)N3)CCC(=O)O)C)C(C)SCC(C(=O)NC)N\n",
      "✅ 1 Attempt 1/20:        781 --> SMILES: C(#N)S\n",
      "✅ 1 Attempt 1/20:        329 --> SMILES: CSCC(C(C(=O)COP(=O)(O)O)O)O\n",
      "✅ 1 Attempt 1/20:        741 --> SMILES: CC(C)(COP(=O)(O)OP(=O)(O)OCC1C(C(C(O1)N2C=NC3=C(N=CN=C32)N)O)OP(=O)(O)O)C(C(=O)NCCC(=O)NCCSC(=O)C=CCC(=O)O)O\n",
      "✅ 1 Attempt 1/20:        147 --> SMILES: CNCC1=CN(C(=NC1=O)[SeH])C2C(C(C(O2)CO)O)O\n",
      "✅ 1 Attempt 1/20:        853 --> SMILES: C1=C(C=C(C(=C1I)OC2=CC(=C(C(=C2)I)O)I)I)CC(C(=O)O)N\n",
      "✅ 1 Attempt 1/20:        485 --> SMILES: C[N+](C)(C)CCOS(=O)(=O)[O-]\n",
      "✅ 1 Attempt 1/20:        646 --> SMILES: C1C(C(OC1N2C=NC3=C2NC(=NC3=O)N)COP(=O)(O)OP(=O)(O)OP(=O)(O)O)O\n",
      "✅ 1 Attempt 1/20:        753 --> SMILES: C(C(CO)O)O\n",
      "✅ 1 Attempt 1/20:         84 --> SMILES: CC(C)(COP(=O)(O)OP(=O)(O)OCC1C(C(C(O1)N2C=NC3=C(N=CN=C32)N)O)OP(=O)(O)O)C(C(=O)NCCC(=O)NCCSC(=O)CC(C)(CC(=O)O)O)O\n",
      "✅ 1 Attempt 1/20:        895 --> SMILES: C(CCC(=O)NCCCCCC(=O)O)CCN\n",
      "✅ 1 Attempt 1/20:        567 --> SMILES: C1=CC=C(C=C1)[Hg]\n",
      "✅ 1 Attempt 1/20:        240 --> SMILES: C1=CC=C(C=C1)C=O\n",
      "✅ 1 Attempt 1/20:        978 --> SMILES: C1=CC(=CC=C1C(=O)O)N\n",
      "✅ 1 Attempt 1/20:        829 --> SMILES: C(C=O)C(C(=O)O)N\n",
      "✅ 1 Attempt 1/20:        319 --> SMILES: CC1C2C(C(C(=N2)CC3=NC(=C(C4=NC(C5C(C(C1=N5)(C)CCC(=O)NCC(C)O)CC(=O)N)(C(C4CCC(=O)N)(C)CC(=O)N)C)C)C(C3CCC(=O)N)(C)CC(=O)N)(C)C)CCC(=O)N\n",
      "✅ 1 Attempt 1/20:        853 --> SMILES: C1=C(C=C(C(=C1I)OC2=CC(=C(C(=C2)I)O)I)I)CC(C(=O)O)N\n",
      "✅ 1 Attempt 1/20:        690 --> SMILES: CC1=NCCC(N1)C(=O)O\n",
      "✅ 1 Attempt 1/20:        787 --> SMILES: NO\n",
      "✅ 1 Attempt 1/20:        464 --> SMILES: C1=CC=C(C=C1)C(=O)NCC(=O)O\n",
      "✅ 1 Attempt 1/20:        463 --> SMILES: C(CC(C(=O)O)NC(=O)CCC(=O)O)CN=C(N)N\n",
      "✅ 1 Attempt 1/20:        788 --> SMILES: C1=C(C(=C(N1)CC2=C(C(=C(N2)CC3=C(C(=C(N3)CC4=C(C(=C(N4)CO)CC(=O)O)CCC(=O)O)CC(=O)O)CCC(=O)O)CC(=O)O)CCC(=O)O)CC(=O)O)CCC(=O)O\n",
      "✅ 1 Attempt 1/20:        839 --> SMILES: C(C(C(=O)O)N)C(C(=O)O)O\n",
      "✅ 1 Attempt 1/20:          9 --> SMILES: C1(C(C(C(C(C1O)O)OP(=O)(O)O)O)O)O\n",
      "✅ 1 Attempt 1/20:        401 --> SMILES: C1C(C(=O)NO1)N\n",
      "✅ 1 Attempt 1/20:          2 --> SMILES: CC(=O)OC(CC(=O)O)C[N+](C)(C)C\n",
      "✅ 1 Attempt 1/20:        241 --> SMILES: C1=CC=CC=C1\n",
      "✅ 1 Attempt 1/20:        570 --> SMILES: C1=CC=C(C=C1)C(=CC=CC(=O)C(=O)O)O\n",
      "✅ 1 Attempt 1/20:        143 --> SMILES: C1C(N(C2=C(N1)NC(=NC2=O)N)C=O)CNC3=CC=C(C=C3)C(=O)NC(CCC(=O)O)C(=O)O\n",
      "✅ 1 Attempt 1/20:        390 --> SMILES: C1=CN(C(=O)NC1=O)C2C(C(C(O2)COP(=O)(O)OP(=O)(O)OC3C(C(C(C(O3)C(=O)O)O)O)O)O)O\n",
      "✅ 1 Attempt 1/20:         20 --> SMILES: C1=CC(=C(C(=C1)O)O)CCC(=O)O\n",
      "✅ 1 Attempt 1/20:        216 --> SMILES: CC1=NC=C(C(=N1)N)COP(=O)(O)O\n",
      "✅ 1 Attempt 1/20:        990 --> SMILES: C1=NC(=C2C(=N1)N(C=N2)C3C(C(C(O3)COP(=O)(O)OS(=O)(=O)O)OP(=O)(O)O)O)N\n",
      "✅ 1 Attempt 1/20:        418 --> SMILES: C1=CC(C(C=C1)O)O\n",
      "✅ 1 Attempt 1/20:        417 --> SMILES: C(=CC(=O)O)C(=CC(=O)O)Cl\n",
      "✅ 1 Attempt 1/20:        932 --> SMILES: C1C(OC2=CC(=CC(=C2C1=O)O)O)C3=CC=C(C=C3)O\n",
      "✅ 1 Attempt 1/20:        540 --> SMILES: C(#N)O\n",
      "✅ 1 Attempt 1/20:        474 --> SMILES: CN(C)OP(=O)(O)OCC1C(C(C(O1)N2C=NC3=C(N=CN=C32)N)O)O\n",
      "✅ 1 Attempt 1/20:        440 --> SMILES: CC(C)CCCC(C)C1CCC2C1(CCC3C2CCC4=CC(=O)CCC34C)C\n",
      "✅ 1 Attempt 1/20:        317 --> SMILES: CC(C)(COP(=O)(O)OP(=O)(O)OCC1C(C(C(O1)N2C=NC3=C(N=CN=C32)N)O)OP(=O)(O)O)C(C(=O)NCCC(=O)NCCS)O\n",
      "✅ 1 Attempt 1/20:        933 --> SMILES: [NH3+]O\n",
      "✅ 1 Attempt 1/20:        837 --> SMILES: C1C2=CC(NC2=CC(=O)C1=O)C(=O)O\n",
      "✅ 1 Attempt 1/20:         48 --> SMILES: C(CC(=O)N)C(=O)C(=O)O\n",
      "✅ 1 Attempt 1/20:        650 --> SMILES: CC(=O)C(=O)C\n",
      "✅ 1 Attempt 1/20:        173 --> SMILES: CC(C(=O)CCCCCC(=O)O)N\n",
      "✅ 1 Attempt 1/20:        146 --> SMILES: CN1C(CNC2=C1C(=O)N=C(N2)N)CNC3=CC=C(C=C3)C(=O)NC(CCC(=O)O)C(=O)O\n",
      "✅ 1 Attempt 1/20:        363 --> SMILES: C(C=O)N\n",
      "✅ 1 Attempt 1/20:        302 --> SMILES: CC(CCC(=O)O)C1CCC2C1(C(CC3C2C(=O)CC4C3(CCC(C4)O)C)O)C\n",
      "✅ 1 Attempt 1/20:        636 --> SMILES: C1C(C(OC1N2C=NC3=C(N=CN=C32)N)CO)O\n",
      "✅ 1 Attempt 1/20:        522 --> SMILES: CC(=O)C12C3=C(C(C(=N3)CC4=C(C(=C(N4)CC5=C(C(C(=N5)C=C(N1)C(C2(C)CC(=O)O)CCC(=O)O)(C)CC(=O)O)CCC(=O)O)CC(=O)O)CCC(=O)O)(C)CCC(=O)O)CC(=O)O\n",
      "✅ 1 Attempt 1/20:        951 --> SMILES: C1=CC(=C(C=C1C(CN)O)O)O\n",
      "✅ 1 Attempt 1/20:         29 --> SMILES: C(=O)C(C(=O)O)N\n",
      "✅ 1 Attempt 1/20:        594 --> SMILES: C(C(C(=O)O)N)S\n",
      "✅ 1 Attempt 1/20:        823 --> SMILES: C[N+](C)(C)CCOP(=O)(O)OCC(CO)O\n",
      "✅ 1 Attempt 1/20:        771 --> SMILES: CC1C2C=C3C(C(C(N3)C=C4C(C(C(=CC5=C(C(C(=CC(C1C(CCC=C(C)CCC=C(C)CCC=C(C)C)O)N2)N5)C)C=C)N4)C)CCC(=O)O)CCC(=O)O)C\n",
      "✅ 1 Attempt 1/20:        112 --> SMILES: C(C(C(=O)C(=O)[O-])O)OP(=O)(O)O\n",
      "✅ 1 Attempt 1/20:        858 --> SMILES: C1C=CCC(=CC=CC2C(O2)CCCC=O)C=C1\n",
      "✅ 1 Attempt 1/20:        480 --> SMILES: C1=CC(=C(C=C1C2=C(C(=C3C(=CC(=O)C=C3O2)O)O)O)O)O\n",
      "✅ 1 Attempt 1/20:        223 --> SMILES: [NH4+]\n",
      "✅ 1 Attempt 1/20:        530 --> SMILES: C1C(N(C2=C(N1)NC(=NC2=O)N)C=N)CNC3=CC=C(C=C3)C(=O)NC(CCC(=O)O)C(=O)O\n",
      "✅ 1 Attempt 1/20:        947 --> SMILES: N#N\n",
      "✅ 1 Attempt 1/20:        430 --> SMILES: CN1CCCC1C2=C[N+](=CC=C2)C\n",
      "✅ 1 Attempt 1/20:        547 --> SMILES: C1=CC(=C(C=C1CC(=O)O)O)O\n",
      "✅ 1 Attempt 1/20:        979 --> SMILES: C1=CC(=CC=C1CC(=O)C(=O)O)O\n",
      "✅ 1 Attempt 1/20:        413 --> SMILES: C1CC(=O)NC1C2=CN=CC=C2\n",
      "✅ 1 Attempt 1/20:        437 --> SMILES: C1=CC(=CN=C1)C(=O)CCC(=O)O\n",
      "✅ 1 Attempt 1/20:        966 --> SMILES: CCCCCCCCC=CCCCCCCCC(=O)SCCNC(=O)CCNC(=O)C(C(C)(C)COP(=O)(O)OP(=O)(O)OCC1C(C(C(O1)N2C=NC3=C(N=CN=C32)N)O)OP(=O)(O)O)O\n",
      "✅ 1 Attempt 1/20:        418 --> SMILES: C1=CC(C(C=C1)O)O\n",
      "✅ 1 Attempt 1/20:        914 --> SMILES: CNC(CC1=CNC2=CC=CC=C21)C(=O)O\n",
      "✅ 1 Attempt 1/20:        884 --> SMILES: C1C2CN(CN2C3=C(N1)NC(=NC3=O)N)C4=CC=C(C=C4)C(=O)NC(CCC(=O)O)C(=O)O\n",
      "✅ 1 Attempt 1/20:        986 --> SMILES: CCCCCCCCCCCCCCCC(=O)SCCNC(=O)CCNC(=O)C(C(C)(C)COP(=O)(O)OP(=O)(O)OCC1C(C(C(O1)N2C=NC3=C(N=CN=C32)N)O)OP(=O)(O)O)O\n",
      "✅ 1 Attempt 1/20:        415 --> SMILES: CN1C(=O)CCC1(C2=CN=CC=C2)O\n",
      "✅ 1 Attempt 1/20:         58 --> SMILES: CCC(=O)C(=O)O\n",
      "✅ 1 Attempt 1/20:        892 --> SMILES: C1(C(C(C(C(C1O)O)O)O)O)O\n",
      "✅ 1 Attempt 1/20:        221 --> SMILES: C(C(C(C(CO)O)O)O)NC1=C(C(=O)NC(=O)N1)N\n",
      "✅ 1 Attempt 1/20:         74 --> SMILES: CC(=O)CC(=O)SCCNC(=O)CCNC(=O)C(C(C)(C)COP(=O)(O)OP(=O)(O)OCC1C(C(C(O1)N2C=NC3=C(N=CN=C32)N)O)OP(=O)(O)O)O\n",
      "✅ 1 Attempt 1/20:        200 --> SMILES: C1=NC(=C(N1C2C(C(C(O2)COP(=O)(O)O)O)O)N)C(=O)N\n",
      "✅ 1 Attempt 1/20:        681 --> SMILES: C1=CC(=C(C=C1CCN)O)O\n",
      "✅ 1 Attempt 1/20:        379 --> SMILES: CCCCCCCC(=O)O\n",
      "✅ 1 Attempt 1/20:        823 --> SMILES: C[N+](C)(C)CCOP(=O)(O)OCC(CO)O\n",
      "✅ 1 Attempt 1/20:        470 --> SMILES: C(CN)C(C(=O)O)N\n",
      "✅ 1 Attempt 1/20:        488 --> SMILES: C(CC(=O)NC(CSC=O)C(=O)NCC(=O)O)C(C(=O)O)N\n",
      "✅ 1 Attempt 1/20:        348 --> SMILES: C1=CC(=CC=C1O)OC2C(C(C(C(O2)COP(=O)(O)O)O)O)O\n",
      "✅ 1 Attempt 1/20:        748 --> SMILES: C(CC(=O)NC(CSS(=O)(=O)O)C(=O)NCC(=O)O)C(C(=O)O)N\n",
      "✅ 1 Attempt 1/20:         54 --> SMILES: CCC(C)C(=O)SCCNC(=O)CCNC(=O)C(C(C)(C)COP(=O)(O)OP(=O)(O)OCC1C(C(C(O1)N2C=NC3=C(N=CN=C32)N)O)OP(=O)(O)O)O\n",
      "✅ 1 Attempt 1/20:        736 --> SMILES: C(C1C(C(C(C(=O)O1)O)O)O)O\n",
      "✅ 1 Attempt 1/20:        222 --> SMILES: N\n",
      "✅ 1 Attempt 1/20:        421 --> SMILES: C(CCC(=O)O)CC(CCS)S\n",
      "✅ 1 Attempt 1/20:        992 --> SMILES: C1(=C(C(=C(C(=C1Cl)Cl)Cl)Cl)Cl)O\n",
      "✅ 1 Attempt 1/20:        301 --> SMILES: C1=CC(=C(C=C1O)Cl)O\n",
      "✅ 1 Attempt 1/20:        574 --> SMILES: C1=CC(=C(C=C1C2=C(C(=C3C(=CC(=O)C=C3O2)O)O)OC4C(C(C(C(O4)CO)O)O)O)O)O\n",
      "✅ 1 Attempt 1/20:        363 --> SMILES: C(C=O)N\n",
      "✅ 1 Attempt 1/20:        963 --> SMILES: CCCCCCCCCCCC(CC(=O)NC1C(C(C(OC1OP(=O)(O)OP(=O)(O)OCC2C(C(C(O2)N3C=CC(=O)NC3=O)O)O)CO)O)OC(=O)CC(CCCCCCCCCCC)O)O\n"
     ]
    }
   ],
   "source": [
    "from omgui.workers.smol_functions import random_smiles\n",
    "\n",
    "x = random_smiles(100, max_cid=1000)"
   ]
  },
  {
   "cell_type": "code",
   "execution_count": 3,
   "id": "c0daf68c-69d0-43e0-bb9c-3875fd86b8b6",
   "metadata": {
    "tags": []
   },
   "outputs": [
    {
     "name": "stdout",
     "output_type": "stream",
     "text": [
      "Molecule 2,3-diaminopropanoic acid was added\n",
      "Molecule 72698-24-9 was added\n",
      "Molecule 2,5-Diaminopentanoic acid was added\n",
      "Molecule RQRINYISXYAZKL-UHFFFAOYSA-N was added\n",
      "Molecule Hippuric acid was added\n",
      "Molecule GDUBPWSFXUAETN-UHFFFAOYSA-N was added\n",
      "Molecule 4-oxobut-2-ene-1,2,4-tricarboxylic acid was added\n",
      "Molecule SOYOWSWLLUMDSN-UHFFFAOYSA-N was added\n",
      "Molecule thiocyanic acid was added\n",
      "Molecule 86316-83-8 already in working set\n",
      "Molecule Coenzyme A, glutaconyl- was added\n",
      "Molecule LKYNRXHIWDCZMH-UHFFFAOYSA-N was added\n",
      "Molecule XUIIKFGFIJCVMT-UHFFFAOYSA-N was added\n",
      "Molecule choline sulfate was added\n",
      "Molecule HAAZLUGHYHWQIW-UHFFFAOYSA-N was added\n",
      "Molecule glycerol was added\n",
      "Molecule 3-Hydroxy-3-methylglutaryl CoA was added\n",
      "Molecule 6-(6-aminohexanamido)hexanoic acid was added\n",
      "Molecule Phenylmercury was added\n",
      "Molecule benzaldehyde was added\n",
      "Molecule 4-aminobenzoic acid was added\n",
      "Molecule 2-amino-4-oxobutanoic acid was added\n",
      "Molecule SYBWFVYQKOQJDX-UHFFFAOYSA-N was added\n",
      "Molecule XUIIKFGFIJCVMT-UHFFFAOYSA-N already in working set\n",
      "Molecule 117305-84-7 was added\n",
      "Molecule hydroxylamine was added\n",
      "Molecule Hippuric acid already in working set\n",
      "Molecule N2-Succinoylarginine was added\n",
      "Molecule hydroxymethylbilane was added\n",
      "Molecule MB5HCK64QF was added\n",
      "Molecule DTXSID30862219 was added\n",
      "Molecule DL-Cycloserine was added\n",
      "Molecule RDHQFKQIGNGIED-UHFFFAOYSA-O was added\n",
      "Molecule benzene was added\n",
      "Molecule 2-hydroxy-6-oxo-6-phenylhexa-2,4-dienoic acid was added\n",
      "Molecule VVIAGPKUTFNRDU-UHFFFAOYSA-N was added\n",
      "Molecule \n",
      "(2S,3S,4R,5R,6R)-6-[[[(2S,3S,4R,5R)-5-(2,4-DIOXOPYRIMIDIN-1-YL)-3,4-DIHYDROXY-OXOLAN-2-YL]METHOXY-HYDROXY-PHOSPHORYL]OXY-HYDROXY-PHOSPHORYL]OXY-3,4,5-TRIHYDROXY-OXANE-2-CARBOXYLIC\n",
      "was added\n",
      "Molecule 3714-73-6 was added\n",
      "Molecule (4-AMINO-2-METHYLPYRIMIDIN-5-YL)METHYL DIHYDROGEN PHOSPHATE was \n",
      "added\n",
      "Molecule GACDQMDRPRGCTN-UHFFFAOYSA-N was added\n",
      "Molecule 5,6-Dihydroxycyclohexa-1,3-diene was added\n",
      "Molecule 3-chloromuconic acid was added\n",
      "Molecule 67604-48-2 was added\n",
      "Molecule Cyanic acid was added\n",
      "Molecule ZHMVYQXJIQHKMY-UHFFFAOYSA-N was added\n",
      "Molecule \n",
      "10,13-dimethyl-17-(6-methylheptan-2-yl)-1,2,6,7,8,9,11,12,14,15,16,17-dodecahydrocyclopenta[a]phenanthren-3-one\n",
      "was added\n",
      "Molecule \n",
      "[[5-(6-aminopurin-9-yl)-4-hydroxy-3-phosphonooxyoxolan-2-yl]methoxy-hydroxyphosphoryl]\n",
      "\n",
      "[3-hydroxy-2,2-dimethyl-4-oxo-4-[[3-oxo-3-(2-sulfanylethylamino)propyl]amino]butyl]\n",
      "hydrogen phosphate was added\n",
      "Molecule hydroxyazanium already in working set\n",
      "Molecule CKZOQLKEDKSKJR-UHFFFAOYSA-N was added\n",
      "Molecule alpha-Ketoglutaramate was added\n",
      "Molecule 2,3-butanedione was added\n",
      "Molecule 8-Amino-7-oxononanoic acid was added\n",
      "Molecule ZNOVTXRBGFNYRX-UHFFFAOYSA-N was added\n",
      "Molecule aminoacetaldehyde was added\n",
      "Molecule 3,12-Dihydroxy-7-oxocholan-24-oic acid was added\n",
      "Molecule 5-(6-aminopurin-9-yl)-2-(hydroxymethyl)oxolan-3-ol already in \n",
      "working set\n",
      "Molecule IOBDBIPWYQGVMM-UHFFFAOYSA-N was added\n",
      "Molecule 1,2-Benzenediol, 4-(2-amino-1-hydroxyethyl)- was added\n",
      "Molecule 2-amino-3-oxopropionic acid was added\n",
      "Molecule L-cysteine already in working set\n",
      "Molecule SUHOQUVVVLNYQR-UHFFFAOYSA-O was added\n",
      "Molecule QDWRZFOSFZXXTP-UHFFFAOYSA-N was added\n",
      "Molecule 3-hydroxy-2-oxo-4-phosphonooxybutanoate was added\n",
      "Molecule Leukotriene A4 was added\n",
      "Molecule quercetin was added\n",
      "Molecule ammonium was added\n",
      "Molecule 5-Formiminotetrahydrofolic acid was added\n",
      "Molecule Nitrogen was added\n",
      "Molecule N-Methylnicotinium already in working set\n",
      "Molecule 3,4-Dihydroxyphenylacetic acid was added\n",
      "Molecule 4-Hydroxyphenylpyruvic acid was added\n",
      "Molecule norcotinine was added\n",
      "Molecule 4192-31-8 was added\n",
      "Molecule Oleyl-CoA was added\n",
      "Molecule 5,6-Dihydroxycyclohexa-1,3-diene already in working set\n",
      "Molecule ABRINE (L) was added\n",
      "Molecule QYNUQALWYRSVHF-UHFFFAOYSA-N was added\n",
      "Molecule \n",
      "S-[2-[3-[[4-[[[(2R,3S,4R,5R)-5-(6-aminopurin-9-yl)-4-hydroxy-3-phosphonooxyoxolan-2-yl]methoxy-hydroxyphosphoryl]oxy-hydroxyphosphoryl]oxy-2-hydroxy-3,3-dimethylbutanoyl]amino]propanoylamino]ethyl]\n",
      "hexadecanethioate was added\n",
      "Molecule 5-hydroxy-1-methyl-5-pyridin-3-ylpyrrolidin-2-one was added\n",
      "Molecule 2-oxobutanoic acid was added\n",
      "Molecule an inositol was added\n",
      "Molecule 5-amino-6-(D-ribitylamino)uracil was added\n",
      "Molecule 3-oxobutanoyl-CoA was added\n",
      "Molecule DTXSID50863081 was added\n",
      "Molecule dopamine was added\n",
      "Molecule octanoic acid already in working set\n",
      "Molecule SUHOQUVVVLNYQR-UHFFFAOYSA-O already in working set\n",
      "Molecule 2,4-Diaminobutanoic acid was added\n",
      "Molecule FHXAGOICBFGEBF-UHFFFAOYSA-N was added\n",
      "Molecule FBHYCDOVYMVLEN-UHFFFAOYSA-N was added\n",
      "Molecule WVRBCFLALSFRAF-UHFFFAOYSA-N was added\n",
      "Molecule LYNVNYDEQMMNMZ-UHFFFAOYSA-N was added\n",
      "Molecule Aldono-1,5-lactone was added\n",
      "Molecule Nitrogen already in working set\n",
      "Molecule Dihydrolipoic acid already in working set\n",
      "Molecule pentachlorophenol was added\n",
      "Molecule chlorohydroquinone was added\n",
      "Molecule \n",
      "2-(3,4-Dihydroxyphenyl)-5,7-Dihydroxy-3-(3,4,5-Trihydroxy-6-(Hydroxymethyl)Oxan-2-Yl)Oxychromen-4-One\n",
      "was added\n",
      "Molecule aminoacetaldehyde already in working set\n",
      "Molecule KOJCFMYSTWNMQW-UHFFFAOYSA-N was added\n"
     ]
    }
   ],
   "source": [
    "for smi in x:\n",
    "    omgui.mws.add(smi)"
   ]
  },
  {
   "cell_type": "code",
   "execution_count": 5,
   "id": "41bad8b3-0313-4161-ab16-076b29ffd194",
   "metadata": {
    "tags": []
   },
   "outputs": [
    {
     "data": {
      "text/html": [
       "\n",
       "            <style>\n",
       "                #btn-wrap-1758093095 { height:12px; right:20px; display:flex; flex-direction:row-reverse; position:relative }\n",
       "                #btn-wrap-1758093095 a { color:#393939; width:24px; height:24px; padding:4px; box-sizing:border-box; background:white }\n",
       "                #btn-wrap-1758093095 a:hover { color: #0f62fe }\n",
       "            </style>\n",
       "            <div id=\"btn-wrap-1758093095\"><a target=\"_blank\" href=\"http://127.0.0.1:8027/mws\"><svg width=\"16\" height=\"16\" viewBox=\"0 0 16 16\" fill=\"none\" xmlns=\"http://www.w3.org/2000/svg\"><path d=\"M13 14H3C2.73489 13.9996 2.48075 13.8942 2.29329 13.7067C2.10583 13.5193 2.00036 13.2651 2 13V3C2.00036 2.73489 2.10583 2.48075 2.29329 2.29329C2.48075 2.10583 2.73489 2.00036 3 2H8V3H3V13H13V8H14V13C13.9996 13.2651 13.8942 13.5193 13.7067 13.7067C13.5193 13.8942 13.2651 13.9996 13 14Z\" fill=\"currentColor\"/><path d=\"M10 1V2H13.293L9 6.293L9.707 7L14 2.707V6H15V1H10Z\" fill=\"currentColor\"/></svg></a><a href=\"#\" onclick=\"event.preventDefault(); document.querySelector('#btn-wrap-1758093095 + iframe').src=document.querySelector('#btn-wrap-1758093095 + iframe').src;\"><svg width=\"16\" height=\"16\" viewBox=\"0 0 16 16\" fill=\"none\" xmlns=\"http://www.w3.org/2000/svg\"><path d=\"M9 14C10.1867 14 11.3467 13.6481 12.3334 12.9888C13.3201 12.3295 14.0892 11.3925 14.5433 10.2961C14.9974 9.19975 15.1162 7.99335 14.8847 6.82946C14.6532 5.66558 14.0818 4.59648 13.2426 3.75736C12.4035 2.91825 11.3344 2.3468 10.1705 2.11529C9.00666 1.88378 7.80026 2.0026 6.7039 2.45673C5.60754 2.91085 4.67047 3.67989 4.01118 4.66658C3.35189 5.65328 3 6.81331 3 8V11.1L1.2 9.3L0.5 10L3.5 13L6.5 10L5.8 9.3L4 11.1V8C4 7.0111 4.29324 6.0444 4.84265 5.22215C5.39206 4.39991 6.17295 3.75904 7.08658 3.38061C8.00021 3.00217 9.00555 2.90315 9.97545 3.09608C10.9454 3.289 11.8363 3.76521 12.5355 4.46447C13.2348 5.16373 13.711 6.05465 13.9039 7.02455C14.0969 7.99446 13.9978 8.99979 13.6194 9.91342C13.241 10.8271 12.6001 11.6079 11.7779 12.1574C10.9556 12.7068 9.98891 13 9 13V14Z\" fill=\"currentColor\"/></svg></a></div><iframe src=\"http://127.0.0.1:8027/headless/mws\" crossorigin=\"anonymous\" width=\"100%\" height=\"700\" style=\"border:solid 1px #ddd;box-sizing:border-box;width:calc(100% + 20px)\"></iframe>"
      ],
      "text/plain": [
       "<IPython.core.display.HTML object>"
      ]
     },
     "metadata": {},
     "output_type": "display_data"
    }
   ],
   "source": [
    "omgui.mws.open()"
   ]
  }
 ],
 "metadata": {
  "kernelspec": {
   "display_name": "omgui_venv",
   "language": "python",
   "name": "omgui_venv"
  },
  "language_info": {
   "codemirror_mode": {
    "name": "ipython",
    "version": 3
   },
   "file_extension": ".py",
   "mimetype": "text/x-python",
   "name": "python",
   "nbconvert_exporter": "python",
   "pygments_lexer": "ipython3",
   "version": "3.11.9"
  }
 },
 "nbformat": 4,
 "nbformat_minor": 5
}
