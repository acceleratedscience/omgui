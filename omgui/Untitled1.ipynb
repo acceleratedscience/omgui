{
 "cells": [
  {
   "cell_type": "code",
   "execution_count": 4,
   "id": "67f5b348-c11c-4e9f-ade8-8f0aab4c2479",
   "metadata": {
    "tags": []
   },
   "outputs": [],
   "source": [
    "import omgui"
   ]
  },
  {
   "cell_type": "code",
   "execution_count": 7,
   "id": "3aca6559-a681-46e8-b4c4-6d16968af881",
   "metadata": {
    "tags": []
   },
   "outputs": [
    {
     "name": "stdout",
     "output_type": "stream",
     "text": [
      "✅ Session-only context created - workspace: DEFAULT\n",
      "Your molecule working set will reset when you exit this session.\n"
     ]
    },
    {
     "data": {
      "text/plain": [
       "{'workspace': 'DEFAULT',\n",
       " 'temp': True,\n",
       " 'vars': {},\n",
       " '_mws': '<empty>',\n",
       " '_initialized': True}"
      ]
     },
     "execution_count": 7,
     "metadata": {},
     "output_type": "execute_result"
    },
    {
     "data": {
      "text/plain": [
       "PosixPath('/Users/themoenen/.omgui/workspaces/DEFAULT/foo')"
      ]
     },
     "execution_count": 7,
     "metadata": {},
     "output_type": "execute_result"
    }
   ],
   "source": [
    "import omgui\n",
    "\n",
    "omgui.session()\n",
    "\n",
    "# omgui.set_workspace('test')\n",
    "\n",
    "omgui.get_context()\n",
    "\n",
    "from omgui.helpers.paths import parse_path\n",
    "\n",
    "parse_path('foo')\n"
   ]
  },
  {
   "cell_type": "code",
   "execution_count": 8,
   "id": "f3254925-0790-42d9-bbd0-aa17b51ce601",
   "metadata": {
    "tags": []
   },
   "outputs": [
    {
     "name": "stdout",
     "output_type": "stream",
     "text": [
      "Switched to workspace: TEST\n"
     ]
    },
    {
     "data": {
      "text/plain": [
       "PosixPath('/Users/themoenen/.omgui/workspaces/TEST/foo')"
      ]
     },
     "execution_count": 8,
     "metadata": {},
     "output_type": "execute_result"
    }
   ],
   "source": [
    "omgui.set_workspace('test')\n",
    "\n",
    "from omgui.helpers.paths import parse_path\n",
    "\n",
    "parse_path('foo')"
   ]
  },
  {
   "cell_type": "code",
   "execution_count": null,
   "id": "a8293916-6d04-4e43-a66c-25e29deb845a",
   "metadata": {
    "tags": []
   },
   "outputs": [],
   "source": [
    "omgui.show_mol('dopamine')\n",
    "# omgui.get_workspace()\n",
    "# omgui.create_workspace('foo')"
   ]
  },
  {
   "cell_type": "code",
   "execution_count": null,
   "id": "1c930d8b-2c24-4b87-8623-9c8c2032e55e",
   "metadata": {
    "tags": []
   },
   "outputs": [],
   "source": [
    "omgui.launch()"
   ]
  },
  {
   "cell_type": "code",
   "execution_count": null,
   "id": "accb8e7c-77c9-4fd8-bee4-21d376e663c9",
   "metadata": {
    "tags": []
   },
   "outputs": [],
   "source": [
    "omgui.mws.clear()"
   ]
  },
  {
   "cell_type": "code",
   "execution_count": 1,
   "id": "1e7a9567-f152-4e1b-8cfe-02e8e84ada61",
   "metadata": {
    "tags": []
   },
   "outputs": [
    {
     "name": "stdout",
     "output_type": "stream",
     "text": [
      "Molecule cco was added\n"
     ]
    }
   ],
   "source": [
    "import omgui\n",
    "omgui.mws.add('cco')"
   ]
  },
  {
   "cell_type": "code",
   "execution_count": null,
   "id": "b9c7dd25-f786-4504-a4e6-313d653811dd",
   "metadata": {
    "tags": []
   },
   "outputs": [],
   "source": [
    "from omgui.workers.smol_functions import random_smiles\n",
    "\n",
    "x = random_smiles(3, max_cid=1000)"
   ]
  },
  {
   "cell_type": "code",
   "execution_count": null,
   "id": "c0daf68c-69d0-43e0-bb9c-3875fd86b8b6",
   "metadata": {
    "tags": []
   },
   "outputs": [],
   "source": [
    "for smi in x:\n",
    "    omgui.mws.add(smi)"
   ]
  },
  {
   "cell_type": "code",
   "execution_count": null,
   "id": "3cfde46d-0b9f-410b-84ac-e987636f7736",
   "metadata": {
    "tags": []
   },
   "outputs": [],
   "source": [
    "omgui.mws.add('Acetonitrile')\n"
   ]
  },
  {
   "cell_type": "code",
   "execution_count": null,
   "id": "41bad8b3-0313-4161-ab16-076b29ffd194",
   "metadata": {
    "tags": []
   },
   "outputs": [],
   "source": [
    "omgui.mws.open()"
   ]
  }
 ],
 "metadata": {
  "kernelspec": {
   "display_name": "omgui_venv",
   "language": "python",
   "name": "omgui_venv"
  },
  "language_info": {
   "codemirror_mode": {
    "name": "ipython",
    "version": 3
   },
   "file_extension": ".py",
   "mimetype": "text/x-python",
   "name": "python",
   "nbconvert_exporter": "python",
   "pygments_lexer": "ipython3",
   "version": "3.11.9"
  }
 },
 "nbformat": 4,
 "nbformat_minor": 5
}
