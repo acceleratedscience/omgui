{
 "cells": [
  {
   "cell_type": "code",
   "execution_count": 2,
   "id": "83b3bb4d-0e02-4711-937d-32e265afa93d",
   "metadata": {
    "tags": []
   },
   "outputs": [
    {
     "data": {
      "text/html": [
       "\n",
       "            <style>\n",
       "                #btn-wrap-1759482923 { height:12px; right:20px; display:flex; flex-direction:row-reverse; position:relative }\n",
       "                #btn-wrap-1759482923 a { color:#393939; width:24px; height:24px; padding:4px; box-sizing:border-box; background:white }\n",
       "                #btn-wrap-1759482923 a:hover { color: #0f62fe }\n",
       "            </style>\n",
       "            <div id=\"btn-wrap-1759482923\"><a target=\"_blank\" href=\"http://localhost:8025/viz/chart/bar?title=My+Chart&width=600&height=400&scale=1.0&omit_legend=True&return_data=False&data=%5B%7B%22name%22%3A%22Lion%22%2C%22keys%22%3A%5B%22A%22%2C%22B%22%2C%22C%22%5D%2C%22values%22%3A%5B173%2C493%2C421%5D%7D%2C%7B%22name%22%3A%22Tiger%22%2C%22keys%22%3A%5B%22A%22%2C%22B%22%2C%22C%22%5D%2C%22values%22%3A%5B424%2C320%2C188%5D%7D%5D\"><svg width=\"16\" height=\"16\" viewBox=\"0 0 16 16\" fill=\"none\" xmlns=\"http://www.w3.org/2000/svg\"><path d=\"M13 14H3C2.73489 13.9996 2.48075 13.8942 2.29329 13.7067C2.10583 13.5193 2.00036 13.2651 2 13V3C2.00036 2.73489 2.10583 2.48075 2.29329 2.29329C2.48075 2.10583 2.73489 2.00036 3 2H8V3H3V13H13V8H14V13C13.9996 13.2651 13.8942 13.5193 13.7067 13.7067C13.5193 13.8942 13.2651 13.9996 13 14Z\" fill=\"currentColor\"/><path d=\"M10 1V2H13.293L9 6.293L9.707 7L14 2.707V6H15V1H10Z\" fill=\"currentColor\"/></svg></a><a href=\"#\" onclick=\"event.preventDefault(); document.querySelector('#btn-wrap-1759482923 + iframe').src=document.querySelector('#btn-wrap-1759482923 + iframe').src;\"><svg width=\"16\" height=\"16\" viewBox=\"0 0 16 16\" fill=\"none\" xmlns=\"http://www.w3.org/2000/svg\"><path d=\"M9 14C10.1867 14 11.3467 13.6481 12.3334 12.9888C13.3201 12.3295 14.0892 11.3925 14.5433 10.2961C14.9974 9.19975 15.1162 7.99335 14.8847 6.82946C14.6532 5.66558 14.0818 4.59648 13.2426 3.75736C12.4035 2.91825 11.3344 2.3468 10.1705 2.11529C9.00666 1.88378 7.80026 2.0026 6.7039 2.45673C5.60754 2.91085 4.67047 3.67989 4.01118 4.66658C3.35189 5.65328 3 6.81331 3 8V11.1L1.2 9.3L0.5 10L3.5 13L6.5 10L5.8 9.3L4 11.1V8C4 7.0111 4.29324 6.0444 4.84265 5.22215C5.39206 4.39991 6.17295 3.75904 7.08658 3.38061C8.00021 3.00217 9.00555 2.90315 9.97545 3.09608C10.9454 3.289 11.8363 3.76521 12.5355 4.46447C13.2348 5.16373 13.711 6.05465 13.9039 7.02455C14.0969 7.99446 13.9978 8.99979 13.6194 9.91342C13.241 10.8271 12.6001 11.6079 11.7779 12.1574C10.9556 12.7068 9.98891 13 9 13V14Z\" fill=\"currentColor\"/></svg></a></div><iframe src=\"http://localhost:8025/viz/chart/bar?title=My+Chart&width=600&height=400&scale=1.0&omit_legend=True&return_data=False&data=%5B%7B%22name%22%3A%22Lion%22%2C%22keys%22%3A%5B%22A%22%2C%22B%22%2C%22C%22%5D%2C%22values%22%3A%5B173%2C493%2C421%5D%7D%2C%7B%22name%22%3A%22Tiger%22%2C%22keys%22%3A%5B%22A%22%2C%22B%22%2C%22C%22%5D%2C%22values%22%3A%5B424%2C320%2C188%5D%7D%5D\" crossorigin=\"anonymous\" width=\"100%\" height=\"700\" style=\"border:solid 1px #ddd;box-sizing:border-box;width:calc(100% + 20px)\"></iframe>"
      ],
      "text/plain": [
       "<IPython.core.display.HTML object>"
      ]
     },
     "metadata": {},
     "output_type": "display_data"
    }
   ],
   "source": [
    "from omgui import chartviz\n",
    "\n",
    "data = [\n",
    "  {\n",
    "    \"name\": \"Lion\",\n",
    "    \"keys\": [ \"A\", \"B\", \"C\" ],\n",
    "    \"values\": [ 173, 493, 421 ]\n",
    "  },\n",
    "  {\n",
    "    \"name\": \"Tiger\",\n",
    "    \"keys\": [ \"A\", \"B\", \"C\" ],\n",
    "    \"values\": [ 424, 320, 188 ]\n",
    "  }\n",
    "]\n",
    "\n",
    "# chartviz.bar(data, \"svg\", title=\"My Chart\", horizontal=True)\n",
    "# chartviz.bar(data, \"png\", title=\"My Chart\")\n",
    "# chartviz.bar(data, \"interactive\", title=\"My Chart\")\n",
    "# chartviz.bar(data, \"url\", title=\"My Chart\")"
   ]
  },
  {
   "cell_type": "code",
   "execution_count": null,
   "id": "17c50b15-3574-4940-b3f5-f6bfcb439ea7",
   "metadata": {
    "tags": []
   },
   "outputs": [],
   "source": [
    "from omgui import chartviz\n",
    "\n",
    "data = [\n",
    "  {\n",
    "    \"name\": \"Lion\",\n",
    "    \"x\": [ \"2025-10-02\", \"2025-10-03\", \"2025-10-04\" ],\n",
    "    \"y\": [ 104, 168, 219 ]\n",
    "  },\n",
    "  {\n",
    "    \"name\": \"Tiger\",\n",
    "    \"x\": [ \"2025-10-02\", \"2025-10-03\", \"2025-10-04\" ],\n",
    "    \"y\": [ 135, 165, 369 ]\n",
    "  }\n",
    "]\n",
    "\n",
    "chartviz.line(data, \"svg\", title=\"My Chart\")\n",
    "chartviz.line(data, \"png\", title=\"My Chart\")\n",
    "chartviz.line(data, \"html\", title=\"My Chart\")\n",
    "chartviz.line(data, \"url\", title=\"My Chart\")"
   ]
  },
  {
   "cell_type": "code",
   "execution_count": null,
   "id": "eaadc74c-7ca8-41ba-b3e4-0f5d5f690908",
   "metadata": {},
   "outputs": [],
   "source": [
    "from omgui import chartviz\n",
    "\n",
    "data = [\n",
    "  {\n",
    "    \"name\": \"Monkey\",\n",
    "    \"x\": [ 186, 642, 480 ],\n",
    "    \"y\": [ 185, 383, 100 ]\n",
    "  },\n",
    "  {\n",
    "    \"name\": \"Wolf\",\n",
    "    \"x\": [ 280, 194, 450 ],\n",
    "    \"y\": [ 117, 522, 233 ]\n",
    "  }\n",
    "]\n",
    "\n",
    "chartviz.scatter(data, \"svg\", title=\"My Chart\")\n",
    "chartviz.scatter(data, \"png\", title=\"My Chart\")\n",
    "chartviz.scatter(data, \"html\", title=\"My Chart\")\n",
    "chartviz.scatter(data, \"url\", title=\"My Chart\")"
   ]
  },
  {
   "cell_type": "code",
   "execution_count": null,
   "id": "b833ca07-9a38-41f6-9104-b191b5b2f3a9",
   "metadata": {},
   "outputs": [],
   "source": [
    "from omgui import chartviz\n",
    "\n",
    "data = [\n",
    "  {\n",
    "    \"name\": \"Elephant\",\n",
    "    \"x\": [ 250, 714, 896 ],\n",
    "    \"y\": [ 989, 338, 251 ],\n",
    "    \"size\": [ 63, 10, 26 ]\n",
    "  },\n",
    "  {\n",
    "    \"name\": \"Zebra\",\n",
    "    \"x\": [ 175, 541, 864 ],\n",
    "    \"y\": [ 103, 734, 247 ],\n",
    "    \"size\": [ 36, 56, 14 ]\n",
    "  }\n",
    "]\n",
    "\n",
    "chartviz.bubble(data, \"svg\", title=\"My Chart\")\n",
    "chartviz.bubble(data, \"png\", title=\"My Chart\")\n",
    "chartviz.bubble(data, \"html\", title=\"My Chart\")\n",
    "chartviz.bubble(data, \"url\", title=\"My Chart\")"
   ]
  },
  {
   "cell_type": "code",
   "execution_count": null,
   "id": "27098eeb-661d-4778-81da-eeda30b6698b",
   "metadata": {},
   "outputs": [],
   "source": [
    "from omgui import chartviz\n",
    "\n",
    "data = [\n",
    "  {\n",
    "    \"labels\": [ \"Lion\", \"Tiger\", \"Elephant\" ],\n",
    "    \"values\": [ 800, 200, 300 ],\n",
    "  }\n",
    "]\n",
    "\n",
    "chartviz.pie(data, \"svg\", title=\"My Chart\")\n",
    "chartviz.pie(data, \"png\", title=\"My Chart\")\n",
    "chartviz.pie(data, \"html\", title=\"My Chart\")\n",
    "chartviz.pie(data, \"url\", title=\"My Chart\")"
   ]
  },
  {
   "cell_type": "code",
   "execution_count": null,
   "id": "6e432250-5ff7-45ec-ad40-2f90b2abe4d1",
   "metadata": {},
   "outputs": [],
   "source": [
    "from omgui import chartviz\n",
    "\n",
    "data = [\n",
    "  {\n",
    "    \"name\": \"Lion\",\n",
    "    \"data\": [ 953, 146, 137 ]\n",
    "  },\n",
    "  {\n",
    "    \"name\": \"Tiger\",\n",
    "    \"data\": [ 672, 723, 629 ]\n",
    "  }\n",
    "]\n",
    "\n",
    "chartviz.boxplot(data, \"svg\", title=\"My Chart\")\n",
    "chartviz.boxplot(data, \"png\", title=\"My Chart\")\n",
    "chartviz.boxplot(data, \"html\", title=\"My Chart\")\n",
    "chartviz.boxplot(data, \"url\", title=\"My Chart\")"
   ]
  },
  {
   "cell_type": "code",
   "execution_count": 1,
   "id": "92b9639c-cbb6-4346-8213-386f73f97557",
   "metadata": {},
   "outputs": [
    {
     "data": {
      "image/svg+xml": [
       "<svg xmlns=\"http://www.w3.org/2000/svg\" xmlns:xlink=\"http://www.w3.org/1999/xlink\" class=\"main-svg\" width=\"600\" height=\"400\" style=\"\" viewBox=\"0 0 600 400\"><rect x=\"0\" y=\"0\" width=\"600\" height=\"400\" style=\"fill: rgb(255, 255, 255); fill-opacity: 1;\"/><defs id=\"defs-f4e2a9\"><g class=\"clips\"><clipPath id=\"clipf4e2a9xyplot\" class=\"plotclip\"><rect width=\"440\" height=\"200\"/></clipPath><clipPath class=\"axesclip\" id=\"clipf4e2a9x\"><rect x=\"80\" y=\"0\" width=\"440\" height=\"400\"/></clipPath><clipPath class=\"axesclip\" id=\"clipf4e2a9y\"><rect x=\"0\" y=\"120\" width=\"600\" height=\"200\"/></clipPath><clipPath class=\"axesclip\" id=\"clipf4e2a9xy\"><rect x=\"80\" y=\"120\" width=\"440\" height=\"200\"/></clipPath></g><g class=\"gradients\"/><g class=\"patterns\"/></defs><g class=\"bglayer\"/><g class=\"layer-below\"><g class=\"imagelayer\"/><g class=\"shapelayer\"/></g><g class=\"cartesianlayer\"><g class=\"subplot xy\"><g class=\"layer-subplot\"><g class=\"shapelayer\"/><g class=\"imagelayer\"/></g><g class=\"minor-gridlayer\"><g class=\"x\"/><g class=\"y\"/></g><g class=\"gridlayer\"><g class=\"x\"/><g class=\"y\"><path class=\"ygrid crisp\" transform=\"translate(0,281.46000000000004)\" d=\"M80,0h440\" style=\"stroke: rgb(238, 238, 238); stroke-opacity: 1; stroke-width: 1px;\"/><path class=\"ygrid crisp\" transform=\"translate(0,242.92000000000002)\" d=\"M80,0h440\" style=\"stroke: rgb(238, 238, 238); stroke-opacity: 1; stroke-width: 1px;\"/><path class=\"ygrid crisp\" transform=\"translate(0,204.38)\" d=\"M80,0h440\" style=\"stroke: rgb(238, 238, 238); stroke-opacity: 1; stroke-width: 1px;\"/><path class=\"ygrid crisp\" transform=\"translate(0,165.84)\" d=\"M80,0h440\" style=\"stroke: rgb(238, 238, 238); stroke-opacity: 1; stroke-width: 1px;\"/><path class=\"ygrid crisp\" transform=\"translate(0,127.3)\" d=\"M80,0h440\" style=\"stroke: rgb(238, 238, 238); stroke-opacity: 1; stroke-width: 1px;\"/></g></g><g class=\"zerolinelayer\"/><g class=\"layer-between\"><g class=\"shapelayer\"/><g class=\"imagelayer\"/></g><path class=\"xlines-below\"/><path class=\"ylines-below\"/><g class=\"overlines-below\"/><g class=\"xaxislayer-below\"/><g class=\"yaxislayer-below\"/><g class=\"overaxes-below\"/><g class=\"overplot\"><g class=\"xy\" transform=\"translate(80,120)\" clip-path=\"url(#clipf4e2a9xyplot)\"><g class=\"boxlayer mlayer\"><g class=\"trace boxes\" style=\"opacity: 1;\"><path class=\"box\" d=\"M40.7,139.97H76.63M40.7,152.4H76.63V127.55H40.7ZM58.67,152.4V152.4M58.67,127.55V127.55M49.68,152.4H67.65M49.68,127.55H67.65\" style=\"vector-effect: none; stroke-width: 1px; stroke: rgb(203, 136, 151); stroke-opacity: 1; fill: rgb(203, 136, 151); fill-opacity: 0.5;\"/><path class=\"box\" d=\"M260.7,83.71H296.63M260.7,157.41H296.63V10H260.7ZM278.67,157.41V157.41M278.67,10V10M269.68,157.41H287.65M269.68,10H287.65\" style=\"vector-effect: none; stroke-width: 1px; stroke: rgb(203, 136, 151); stroke-opacity: 1; fill: rgb(203, 136, 151); fill-opacity: 0.5;\"/></g><g class=\"trace boxes\" style=\"opacity: 1;\"><path class=\"box\" d=\"M92.03,57.4H127.97M92.03,69.35H127.97V45.46H92.03ZM110,69.35V69.35M110,45.46V45.46M101.02,69.35H118.98M101.02,45.46H118.98\" style=\"vector-effect: none; stroke-width: 1px; stroke: rgb(148, 173, 224); stroke-opacity: 1; fill: rgb(148, 173, 224); fill-opacity: 0.5;\"/><path class=\"box\" d=\"M312.03,107.51H347.97M312.03,126H347.97V89.01H312.03ZM330,126V126M330,89.01V89.01M321.02,126H338.98M321.02,89.01H338.98\" style=\"vector-effect: none; stroke-width: 1px; stroke: rgb(148, 173, 224); stroke-opacity: 1; fill: rgb(148, 173, 224); fill-opacity: 0.5;\"/></g><g class=\"trace boxes\" style=\"opacity: 1;\"><path class=\"box\" d=\"M143.37,130.05H179.3M143.37,173.6H179.3V86.5H143.37ZM161.33,173.6V173.6M161.33,86.5V86.5M152.35,173.6H170.32M152.35,86.5H170.32\" style=\"vector-effect: none; stroke-width: 1px; stroke: rgb(243, 186, 112); stroke-opacity: 1; fill: rgb(243, 186, 112); fill-opacity: 0.5;\"/><path class=\"box\" d=\"M363.37,75.23H399.3M363.37,109.05H399.3V41.41H363.37ZM381.33,109.05V109.05M381.33,41.41V41.41M372.35,109.05H390.32M372.35,41.41H390.32\" style=\"vector-effect: none; stroke-width: 1px; stroke: rgb(243, 186, 112); stroke-opacity: 1; fill: rgb(243, 186, 112); fill-opacity: 0.5;\"/></g></g></g></g><g class=\"zerolinelayer-above\"/><path class=\"xlines-above crisp\" d=\"M79,320.5H521M79,119.5H521\" style=\"fill: none; stroke-width: 1px; stroke: rgb(204, 204, 204); stroke-opacity: 1;\"/><path class=\"ylines-above crisp\" d=\"M79.5,120V320M520.5,120V320\" style=\"fill: none; stroke-width: 1px; stroke: rgb(204, 204, 204); stroke-opacity: 1;\"/><g class=\"overlines-above\"/><g class=\"xaxislayer-above\"><path class=\"xtick ticks crisp\" d=\"M0,321v5M0,119v-5\" transform=\"translate(190,0)\" style=\"stroke: rgb(0, 0, 0); stroke-opacity: 0; stroke-width: 1px;\"/><path class=\"xtick ticks crisp\" d=\"M0,321v5M0,119v-5\" transform=\"translate(410,0)\" style=\"stroke: rgb(0, 0, 0); stroke-opacity: 0; stroke-width: 1px;\"/><g class=\"xtick\"><text text-anchor=\"middle\" x=\"0\" y=\"340.4\" transform=\"translate(190,0)\" style=\"font-family: 'IBM Plex Sans', sans-serif; font-size: 12px; fill: rgb(119, 119, 119); fill-opacity: 1; white-space: pre;\">A</text></g><g class=\"xtick\"><text text-anchor=\"middle\" x=\"0\" y=\"340.4\" transform=\"translate(410,0)\" style=\"font-family: 'IBM Plex Sans', sans-serif; font-size: 12px; fill: rgb(119, 119, 119); fill-opacity: 1; white-space: pre;\">B</text></g></g><g class=\"yaxislayer-above\"><path class=\"ytick ticks crisp\" d=\"M79,0h-5M521,0h5\" transform=\"translate(0,320)\" style=\"stroke: rgb(0, 0, 0); stroke-opacity: 0; stroke-width: 1px;\"/><path class=\"ytick ticks crisp\" d=\"M79,0h-5M521,0h5\" transform=\"translate(0,281.46000000000004)\" style=\"stroke: rgb(0, 0, 0); stroke-opacity: 0; stroke-width: 1px;\"/><path class=\"ytick ticks crisp\" d=\"M79,0h-5M521,0h5\" transform=\"translate(0,242.92000000000002)\" style=\"stroke: rgb(0, 0, 0); stroke-opacity: 0; stroke-width: 1px;\"/><path class=\"ytick ticks crisp\" d=\"M79,0h-5M521,0h5\" transform=\"translate(0,204.38)\" style=\"stroke: rgb(0, 0, 0); stroke-opacity: 0; stroke-width: 1px;\"/><path class=\"ytick ticks crisp\" d=\"M79,0h-5M521,0h5\" transform=\"translate(0,165.84)\" style=\"stroke: rgb(0, 0, 0); stroke-opacity: 0; stroke-width: 1px;\"/><path class=\"ytick ticks crisp\" d=\"M79,0h-5M521,0h5\" transform=\"translate(0,127.3)\" style=\"stroke: rgb(0, 0, 0); stroke-opacity: 0; stroke-width: 1px;\"/><g class=\"ytick\"><text text-anchor=\"end\" x=\"71.6\" y=\"4.199999999999999\" transform=\"translate(0,320)\" style=\"font-family: 'IBM Plex Sans', sans-serif; font-size: 12px; fill: rgb(119, 119, 119); fill-opacity: 1; white-space: pre;\">0</text></g><g class=\"ytick\"><text text-anchor=\"end\" x=\"71.6\" y=\"4.199999999999999\" style=\"font-family: 'IBM Plex Sans', sans-serif; font-size: 12px; fill: rgb(119, 119, 119); fill-opacity: 1; white-space: pre;\" transform=\"translate(0,281.46000000000004)\">200</text></g><g class=\"ytick\"><text text-anchor=\"end\" x=\"71.6\" y=\"4.199999999999999\" style=\"font-family: 'IBM Plex Sans', sans-serif; font-size: 12px; fill: rgb(119, 119, 119); fill-opacity: 1; white-space: pre;\" transform=\"translate(0,242.92000000000002)\">400</text></g><g class=\"ytick\"><text text-anchor=\"end\" x=\"71.6\" y=\"4.199999999999999\" style=\"font-family: 'IBM Plex Sans', sans-serif; font-size: 12px; fill: rgb(119, 119, 119); fill-opacity: 1; white-space: pre;\" transform=\"translate(0,204.38)\">600</text></g><g class=\"ytick\"><text text-anchor=\"end\" x=\"71.6\" y=\"4.199999999999999\" style=\"font-family: 'IBM Plex Sans', sans-serif; font-size: 12px; fill: rgb(119, 119, 119); fill-opacity: 1; white-space: pre;\" transform=\"translate(0,165.84)\">800</text></g><g class=\"ytick\"><text text-anchor=\"end\" x=\"71.6\" y=\"4.199999999999999\" style=\"font-family: 'IBM Plex Sans', sans-serif; font-size: 12px; fill: rgb(119, 119, 119); fill-opacity: 1; white-space: pre;\" transform=\"translate(0,127.3)\">1000</text></g></g><g class=\"overaxes-above\"/></g></g><g class=\"polarlayer\"/><g class=\"smithlayer\"/><g class=\"ternarylayer\"/><g class=\"geolayer\"/><g class=\"funnelarealayer\"/><g class=\"pielayer\"/><g class=\"iciclelayer\"/><g class=\"treemaplayer\"/><g class=\"sunburstlayer\"/><g class=\"glimages\"/><defs id=\"topdefs-f4e2a9\"><g class=\"clips\"/></defs><g class=\"layer-above\"><g class=\"imagelayer\"/><g class=\"shapelayer\"/></g><g class=\"infolayer\"><g class=\"g-gtitle\"><text class=\"gtitle\" x=\"300\" y=\"40\" text-anchor=\"middle\" dy=\"0.7em\" style=\"opacity: 1; font-family: 'IBM Plex Sans', sans-serif; font-size: 17px; fill: rgb(68, 68, 68); fill-opacity: 1; font-weight: 600; white-space: pre;\">My Chart</text></g><g class=\"g-xtitle\"/><g class=\"g-ytitle\"/></g></svg>"
      ],
      "text/plain": [
       "<IPython.core.display.SVG object>"
      ]
     },
     "metadata": {},
     "output_type": "display_data"
    },
    {
     "data": {
      "image/png": "[encoded data removed]",
      "text/plain": [
       "<IPython.core.display.Image object>"
      ]
     },
     "metadata": {},
     "output_type": "display_data"
    },
    {
     "data": {
      "text/html": [
       "\n",
       "            <style>\n",
       "                #btn-wrap-1759474669 { height:12px; right:20px; display:flex; flex-direction:row-reverse; position:relative }\n",
       "                #btn-wrap-1759474669 a { color:#393939; width:24px; height:24px; padding:4px; box-sizing:border-box; background:white }\n",
       "                #btn-wrap-1759474669 a:hover { color: #0f62fe }\n",
       "            </style>\n",
       "            <div id=\"btn-wrap-1759474669\"><a target=\"_blank\" href=\"http://localhost:8025/viz/chart/boxplot?title=My+Chart&width=600&height=400&scale=1.0&omit_legend=True&return_data=False&boxmode=group&data=%5B%7B%22name%22%3A%22Tiger%22%2C%22data%22%3A%5B376%2C247%2C986%2C221%5D%2C%22groups%22%3A%5B%22A%22%2C%22A%22%2C%22B%22%2C%22B%22%5D%7D%2C%7B%22name%22%3A%22Elephant%22%2C%22data%22%3A%5B678%2C802%2C576%2C384%5D%2C%22groups%22%3A%5B%22A%22%2C%22A%22%2C%22B%22%2C%22B%22%5D%7D%2C%7B%22name%22%3A%22Giraffe%22%2C%22data%22%3A%5B589%2C137%2C823%2C472%5D%2C%22groups%22%3A%5B%22A%22%2C%22A%22%2C%22B%22%2C%22B%22%5D%7D%5D\"><svg width=\"16\" height=\"16\" viewBox=\"0 0 16 16\" fill=\"none\" xmlns=\"http://www.w3.org/2000/svg\"><path d=\"M13 14H3C2.73489 13.9996 2.48075 13.8942 2.29329 13.7067C2.10583 13.5193 2.00036 13.2651 2 13V3C2.00036 2.73489 2.10583 2.48075 2.29329 2.29329C2.48075 2.10583 2.73489 2.00036 3 2H8V3H3V13H13V8H14V13C13.9996 13.2651 13.8942 13.5193 13.7067 13.7067C13.5193 13.8942 13.2651 13.9996 13 14Z\" fill=\"currentColor\"/><path d=\"M10 1V2H13.293L9 6.293L9.707 7L14 2.707V6H15V1H10Z\" fill=\"currentColor\"/></svg></a><a href=\"#\" onclick=\"event.preventDefault(); document.querySelector('#btn-wrap-1759474669 + iframe').src=document.querySelector('#btn-wrap-1759474669 + iframe').src;\"><svg width=\"16\" height=\"16\" viewBox=\"0 0 16 16\" fill=\"none\" xmlns=\"http://www.w3.org/2000/svg\"><path d=\"M9 14C10.1867 14 11.3467 13.6481 12.3334 12.9888C13.3201 12.3295 14.0892 11.3925 14.5433 10.2961C14.9974 9.19975 15.1162 7.99335 14.8847 6.82946C14.6532 5.66558 14.0818 4.59648 13.2426 3.75736C12.4035 2.91825 11.3344 2.3468 10.1705 2.11529C9.00666 1.88378 7.80026 2.0026 6.7039 2.45673C5.60754 2.91085 4.67047 3.67989 4.01118 4.66658C3.35189 5.65328 3 6.81331 3 8V11.1L1.2 9.3L0.5 10L3.5 13L6.5 10L5.8 9.3L4 11.1V8C4 7.0111 4.29324 6.0444 4.84265 5.22215C5.39206 4.39991 6.17295 3.75904 7.08658 3.38061C8.00021 3.00217 9.00555 2.90315 9.97545 3.09608C10.9454 3.289 11.8363 3.76521 12.5355 4.46447C13.2348 5.16373 13.711 6.05465 13.9039 7.02455C14.0969 7.99446 13.9978 8.99979 13.6194 9.91342C13.241 10.8271 12.6001 11.6079 11.7779 12.1574C10.9556 12.7068 9.98891 13 9 13V14Z\" fill=\"currentColor\"/></svg></a></div><iframe src=\"http://localhost:8025/viz/chart/boxplot?title=My+Chart&width=600&height=400&scale=1.0&omit_legend=True&return_data=False&boxmode=group&data=%5B%7B%22name%22%3A%22Tiger%22%2C%22data%22%3A%5B376%2C247%2C986%2C221%5D%2C%22groups%22%3A%5B%22A%22%2C%22A%22%2C%22B%22%2C%22B%22%5D%7D%2C%7B%22name%22%3A%22Elephant%22%2C%22data%22%3A%5B678%2C802%2C576%2C384%5D%2C%22groups%22%3A%5B%22A%22%2C%22A%22%2C%22B%22%2C%22B%22%5D%7D%2C%7B%22name%22%3A%22Giraffe%22%2C%22data%22%3A%5B589%2C137%2C823%2C472%5D%2C%22groups%22%3A%5B%22A%22%2C%22A%22%2C%22B%22%2C%22B%22%5D%7D%5D\" crossorigin=\"anonymous\" width=\"100%\" height=\"700\" style=\"border:solid 1px #ddd;box-sizing:border-box;width:calc(100% + 20px)\"></iframe>"
      ],
      "text/plain": [
       "<IPython.core.display.HTML object>"
      ]
     },
     "metadata": {},
     "output_type": "display_data"
    },
    {
     "data": {
      "text/plain": [
       "'viz/chart/boxplot?title=My+Chart&width=600&height=400&scale=1.0&omit_legend=True&return_data=False&boxmode=group&data=%5B%7B%22name%22%3A%22Tiger%22%2C%22data%22%3A%5B376%2C247%2C986%2C221%5D%2C%22groups%22%3A%5B%22A%22%2C%22A%22%2C%22B%22%2C%22B%22%5D%7D%2C%7B%22name%22%3A%22Elephant%22%2C%22data%22%3A%5B678%2C802%2C576%2C384%5D%2C%22groups%22%3A%5B%22A%22%2C%22A%22%2C%22B%22%2C%22B%22%5D%7D%2C%7B%22name%22%3A%22Giraffe%22%2C%22data%22%3A%5B589%2C137%2C823%2C472%5D%2C%22groups%22%3A%5B%22A%22%2C%22A%22%2C%22B%22%2C%22B%22%5D%7D%5D'"
      ]
     },
     "execution_count": 1,
     "metadata": {},
     "output_type": "execute_result"
    }
   ],
   "source": [
    "from omgui import chartviz\n",
    "\n",
    "data = [\n",
    "  {\n",
    "    \"name\": \"Tiger\",\n",
    "    \"data\": [ 376, 247, 986, 221 ],\n",
    "    \"groups\": [ \"A\", \"A\", \"B\", \"B\" ]\n",
    "  },\n",
    "  {\n",
    "    \"name\": \"Elephant\",\n",
    "    \"data\": [ 678, 802, 576, 384 ],\n",
    "    \"groups\": [ \"A\", \"A\", \"B\", \"B\" ]\n",
    "  },\n",
    "  {\n",
    "    \"name\": \"Giraffe\",\n",
    "    \"data\": [ 589, 137, 823, 472 ],\n",
    "    \"groups\": [ \"A\", \"A\", \"B\", \"B\" ]\n",
    "  }\n",
    "]\n",
    "\n",
    "chartviz.boxplot(data, \"svg\", title=\"My Chart\")\n",
    "chartviz.boxplot(data, \"png\", title=\"My Chart\")\n",
    "chartviz.boxplot(data, \"html\", title=\"My Chart\")\n",
    "chartviz.boxplot(data, \"url\", title=\"My Chart\")"
   ]
  },
  {
   "cell_type": "code",
   "execution_count": null,
   "id": "755433ac-e803-4e2b-b774-415e61dc67c5",
   "metadata": {
    "tags": []
   },
   "outputs": [],
   "source": [
    "from omgui import chartviz\n",
    "\n",
    "data = [\n",
    "  {\n",
    "    \"name\": \"Lion\",\n",
    "    \"values\": [ 730, 679, 996 ]\n",
    "  },\n",
    "  {\n",
    "    \"name\": \"Tiger\",\n",
    "    \"values\": [ 162, 281, 771 ]\n",
    "  }\n",
    "]\n",
    "\n",
    "chartviz.histogram(data, \"svg\", title=\"My Chart\")\n",
    "chartviz.histogram(data, \"png\", title=\"My Chart\")\n",
    "chartviz.histogram(data, \"html\", title=\"My Chart\")\n",
    "chartviz.histogram(data, \"url\", title=\"My Chart\")"
   ]
  }
 ],
 "metadata": {
  "kernelspec": {
   "display_name": "omgui_venv",
   "language": "python",
   "name": "omgui_venv"
  },
  "language_info": {
   "codemirror_mode": {
    "name": "ipython",
    "version": 3
   },
   "file_extension": ".py",
   "mimetype": "text/x-python",
   "name": "python",
   "nbconvert_exporter": "python",
   "pygments_lexer": "ipython3",
   "version": "3.11.9"
  }
 },
 "nbformat": 4,
 "nbformat_minor": 5
}
